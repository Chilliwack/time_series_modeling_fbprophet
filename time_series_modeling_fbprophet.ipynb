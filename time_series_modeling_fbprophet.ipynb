{
 "cells": [
  {
   "cell_type": "markdown",
   "metadata": {},
   "source": [
    "#### Order of Operations ####\n",
    "\n",
    "1.) Define the business question that you would like to answer with data - *Time series forecasting*\n",
    "\n",
    "2.) Define the ideal data set (ie the data set that you would collect if time and money were no object) - *A dataset that contains 3+ years of daily time series data.*   \n",
    "\n",
    "3.) Determine what data you can access - *TM_US_incremental_web_order_raw_data.xlsx*\n",
    "\n",
    "4.) [Obtain the data](#obtain)\n",
    "    - Read in the larger dataset\n",
    "    - Trim the data down to what is needed for modeling\n",
    "\n",
    "5.) [Clean the data](#clean)\n",
    "    - Correct datatypes\n",
    "    - Address missing values\n",
    "\n",
    "6.) [Create validation dataset](#validation)\n",
    "    - Create the validation or \"holdout\" dataset\n",
    "\n",
    "7.) [Naive Forecast (baseline)](#baseline)\n",
    "    - Observation from previous time step is used as the prediction for the observation at the next time step to establish a baseline of performance\n",
    "    - Naive root mean squared error (RMSE)\n",
    "\n",
    "8.) [Exploratory data analysis](#explore)\n",
    "    - Univariate Analysis - summary statistics\n",
    "\n",
    "9.) [Variable transformation](#transformation)\n",
    "    - Variable transformation\n",
    "\n",
    "10.) [Outlier treatment](#outlier)\n",
    "    - Outlier treatment\n",
    "\n",
    "11.) [Variable creation](#variable)\n",
    "    - Variable creation\n",
    "\n",
    "12.) [Statistical prediction/modeling](#model) (perform statistical prediction or modeling to answer the business question)\n",
    "    - Time Series forecasting (prediction)\n",
    "\n",
    "13.) [Interpret results](#interpret) (so that you can tell people in plain language what the statistical models or predictions mean)\n",
    "\n",
    "14.) Challenge results (explain to people what the potential failings of the model are so they are able to make informed decisions)\n",
    "\n",
    "15.) Synthesize/write up results telling a story about the data that attempts to answer the question\n",
    "\n",
    "16.) Create reproducible code"
   ]
  },
  {
   "cell_type": "markdown",
   "metadata": {},
   "source": [
    "#### Import Modules ####"
   ]
  },
  {
   "cell_type": "code",
   "execution_count": 1,
   "metadata": {},
   "outputs": [],
   "source": [
    "import numpy as np\n",
    "import pandas as pd\n",
    "import seaborn as sns\n",
    "import matplotlib.pyplot as plt\n",
    "# show plots in the notebook\n",
    "%matplotlib inline\n",
    "# default notebook setup\n",
    "MAX_ROWS = 10\n",
    "pd.set_option('display.height', 1000)\n",
    "pd.set_option('display.max_rows', 500)\n",
    "pd.set_option('display.max_columns', 500)\n",
    "pd.set_option('display.width', 1000)\n",
    "pd.options.display.float_format = '{:.3f}'.format\n",
    "sns.set_style(\"whitegrid\")\n",
    "sns.set_context(\"paper\")\n",
    "\n",
    "# Helper fun to pretty print dataframes\n",
    "def print_full(x):\n",
    "    pd.set_option('display.max_rows', len(x))\n",
    "    print(x)\n",
    "    pd.reset_option('display.max_rows')"
   ]
  },
  {
   "cell_type": "markdown",
   "metadata": {},
   "source": [
    "#### Obtain the data <a id=\"obtain\"></a>"
   ]
  },
  {
   "cell_type": "code",
   "execution_count": 2,
   "metadata": {},
   "outputs": [
    {
     "name": "stdout",
     "output_type": "stream",
     "text": [
      "<class 'pandas.core.frame.DataFrame'>\n",
      "RangeIndex: 97 entries, 0 to 96\n",
      "Data columns (total 13 columns):\n",
      "Week                      97 non-null datetime64[ns]\n",
      "DisplayVisits             97 non-null int64\n",
      "SEOVisits                 97 non-null int64\n",
      "SEMVisits                 97 non-null int64\n",
      "Bounces                   97 non-null int64\n",
      "CartStarts                97 non-null int64\n",
      "WebOrderSubmissions       97 non-null int64\n",
      "TotalVisits               97 non-null int64\n",
      "Entries                   97 non-null int64\n",
      "UniqueVisitors            97 non-null int64\n",
      "BounceRate                97 non-null float64\n",
      "CartStartRate             97 non-null float64\n",
      "WebOrderSubmissionRate    97 non-null float64\n",
      "dtypes: datetime64[ns](1), float64(3), int64(9)\n",
      "memory usage: 9.9 KB\n"
     ]
    }
   ],
   "source": [
    "# Read in the data\n",
    "df = pd.read_excel('TM_US_incremental_web_order_raw_data.xlsx', sheetname=0, index_col=None)\n",
    "df.info()"
   ]
  },
  {
   "cell_type": "code",
   "execution_count": 3,
   "metadata": {
    "scrolled": true
   },
   "outputs": [
    {
     "data": {
      "text/html": [
       "<div>\n",
       "<table border=\"1\" class=\"dataframe\">\n",
       "  <thead>\n",
       "    <tr style=\"text-align: right;\">\n",
       "      <th></th>\n",
       "      <th>Week</th>\n",
       "      <th>TotalVisits</th>\n",
       "    </tr>\n",
       "  </thead>\n",
       "  <tbody>\n",
       "    <tr>\n",
       "      <th>0</th>\n",
       "      <td>2015-01-04</td>\n",
       "      <td>10403800</td>\n",
       "    </tr>\n",
       "    <tr>\n",
       "      <th>1</th>\n",
       "      <td>2015-01-11</td>\n",
       "      <td>10699393</td>\n",
       "    </tr>\n",
       "    <tr>\n",
       "      <th>2</th>\n",
       "      <td>2015-01-18</td>\n",
       "      <td>10522657</td>\n",
       "    </tr>\n",
       "    <tr>\n",
       "      <th>3</th>\n",
       "      <td>2015-01-25</td>\n",
       "      <td>10815097</td>\n",
       "    </tr>\n",
       "    <tr>\n",
       "      <th>4</th>\n",
       "      <td>2015-02-01</td>\n",
       "      <td>10496132</td>\n",
       "    </tr>\n",
       "  </tbody>\n",
       "</table>\n",
       "</div>"
      ],
      "text/plain": [
       "        Week  TotalVisits\n",
       "0 2015-01-04     10403800\n",
       "1 2015-01-11     10699393\n",
       "2 2015-01-18     10522657\n",
       "3 2015-01-25     10815097\n",
       "4 2015-02-01     10496132"
      ]
     },
     "execution_count": 3,
     "metadata": {},
     "output_type": "execute_result"
    }
   ],
   "source": [
    "# Trim the dataframe down to the columns we need for the modeling\n",
    "df = df[['Week','TotalVisits']]\n",
    "df.head()"
   ]
  },
  {
   "cell_type": "markdown",
   "metadata": {},
   "source": [
    "#### Clean the data <a id=\"clean\"></a>"
   ]
  },
  {
   "cell_type": "code",
   "execution_count": 4,
   "metadata": {},
   "outputs": [
    {
     "name": "stdout",
     "output_type": "stream",
     "text": [
      "<class 'pandas.core.frame.DataFrame'>\n",
      "RangeIndex: 97 entries, 0 to 96\n",
      "Data columns (total 2 columns):\n",
      "Week           97 non-null datetime64[ns]\n",
      "TotalVisits    97 non-null int32\n",
      "dtypes: datetime64[ns](1), int32(1)\n",
      "memory usage: 1.2 KB\n"
     ]
    }
   ],
   "source": [
    "# Change the data type and format\n",
    "df['TotalVisits'] = df['TotalVisits'].astype(int)\n",
    "\n",
    "# Dataset now has the correct datatypes and format\n",
    "df.info() # prints info on dataframe"
   ]
  },
  {
   "cell_type": "code",
   "execution_count": 5,
   "metadata": {},
   "outputs": [
    {
     "name": "stdout",
     "output_type": "stream",
     "text": [
      "Missing values per column:\n",
      "Week           0\n",
      "TotalVisits    0\n",
      "dtype: int64\n",
      "\n",
      "Missing values per row:\n",
      "0    0\n",
      "1    0\n",
      "2    0\n",
      "3    0\n",
      "4    0\n",
      "dtype: int64\n"
     ]
    }
   ],
   "source": [
    "# Run function to find missing values in columns and rows\n",
    "def num_missing(x):\n",
    "    return sum(x.isnull())\n",
    "\n",
    "# Applying per column:\n",
    "print(\"Missing values per column:\")\n",
    "print(df.apply(num_missing, axis=0)) #axis=0 defines that function is to be applied on each column\n",
    "\n",
    "# Applying per row:\n",
    "print(\"\\nMissing values per row:\")\n",
    "print(df.apply(num_missing, axis=1).head()) #axis=1 defines that function is to be applied on each row"
   ]
  },
  {
   "cell_type": "code",
   "execution_count": 6,
   "metadata": {
    "collapsed": true,
    "jupyter": {
     "outputs_hidden": true
    }
   },
   "outputs": [],
   "source": [
    "# Prophet has no problem with missing data. If you set their values to NA in the history but leave the dates in future\n",
    "# then Prophet will give you a prediction for their values.\n",
    "\n",
    "# df.loc[(df['ds'] > '2010-01-01') & (df['ds'] < '2011-01-01'), 'y'] = None"
   ]
  },
  {
   "cell_type": "markdown",
   "metadata": {},
   "source": [
    "#### Create validation dataset <a id=\"validation\"></a>"
   ]
  },
  {
   "cell_type": "code",
   "execution_count": 7,
   "metadata": {},
   "outputs": [
    {
     "name": "stdout",
     "output_type": "stream",
     "text": [
      "Dataset 77 rows, Validation 20 rows (20.6 percent of total data)\n"
     ]
    },
    {
     "data": {
      "text/html": [
       "<div>\n",
       "<table border=\"1\" class=\"dataframe\">\n",
       "  <thead>\n",
       "    <tr style=\"text-align: right;\">\n",
       "      <th></th>\n",
       "      <th>Week</th>\n",
       "      <th>TotalVisits</th>\n",
       "    </tr>\n",
       "  </thead>\n",
       "  <tbody>\n",
       "    <tr>\n",
       "      <th>0</th>\n",
       "      <td>2015-01-04</td>\n",
       "      <td>10403800</td>\n",
       "    </tr>\n",
       "    <tr>\n",
       "      <th>1</th>\n",
       "      <td>2015-01-11</td>\n",
       "      <td>10699393</td>\n",
       "    </tr>\n",
       "    <tr>\n",
       "      <th>2</th>\n",
       "      <td>2015-01-18</td>\n",
       "      <td>10522657</td>\n",
       "    </tr>\n",
       "    <tr>\n",
       "      <th>3</th>\n",
       "      <td>2015-01-25</td>\n",
       "      <td>10815097</td>\n",
       "    </tr>\n",
       "    <tr>\n",
       "      <th>4</th>\n",
       "      <td>2015-02-01</td>\n",
       "      <td>10496132</td>\n",
       "    </tr>\n",
       "  </tbody>\n",
       "</table>\n",
       "</div>"
      ],
      "text/plain": [
       "        Week  TotalVisits\n",
       "0 2015-01-04     10403800\n",
       "1 2015-01-11     10699393\n",
       "2 2015-01-18     10522657\n",
       "3 2015-01-25     10815097\n",
       "4 2015-02-01     10496132"
      ]
     },
     "execution_count": 7,
     "metadata": {},
     "output_type": "execute_result"
    }
   ],
   "source": [
    "# Create the dataset and validation dataframes\n",
    "\n",
    "split_point = (len(df) - round((len(df)*.20)))-1 # The size of the test set is typically 20% of the total sample (should be at least as large as the maximum forecast horizon required)\n",
    "dataset, validation = df[0:split_point], df[split_point:]\n",
    "val_per = len(validation) / len(df) * 100\n",
    "print('Dataset %d rows, Validation %d rows (%.1f percent of total data)' % (len(dataset), len(validation), val_per))\n",
    "dataset.to_csv('dataset.csv', index=False) # dataset\n",
    "validation.to_csv('validation.csv', index=False) # validation\n",
    "dataset.head()"
   ]
  },
  {
   "cell_type": "markdown",
   "metadata": {},
   "source": [
    "#### Create Baseline (Naive Forecast) <a id=\"baseline\"></a>"
   ]
  },
  {
   "cell_type": "code",
   "execution_count": 8,
   "metadata": {},
   "outputs": [
    {
     "data": {
      "text/html": [
       "<div>\n",
       "<table border=\"1\" class=\"dataframe\">\n",
       "  <thead>\n",
       "    <tr style=\"text-align: right;\">\n",
       "      <th></th>\n",
       "      <th>TotalVisits</th>\n",
       "    </tr>\n",
       "    <tr>\n",
       "      <th>Week</th>\n",
       "      <th></th>\n",
       "    </tr>\n",
       "  </thead>\n",
       "  <tbody>\n",
       "    <tr>\n",
       "      <th>2015-01-04</th>\n",
       "      <td>10403800</td>\n",
       "    </tr>\n",
       "    <tr>\n",
       "      <th>2015-01-11</th>\n",
       "      <td>10699393</td>\n",
       "    </tr>\n",
       "    <tr>\n",
       "      <th>2015-01-18</th>\n",
       "      <td>10522657</td>\n",
       "    </tr>\n",
       "    <tr>\n",
       "      <th>2015-01-25</th>\n",
       "      <td>10815097</td>\n",
       "    </tr>\n",
       "    <tr>\n",
       "      <th>2015-02-01</th>\n",
       "      <td>10496132</td>\n",
       "    </tr>\n",
       "  </tbody>\n",
       "</table>\n",
       "</div>"
      ],
      "text/plain": [
       "            TotalVisits\n",
       "Week                   \n",
       "2015-01-04     10403800\n",
       "2015-01-11     10699393\n",
       "2015-01-18     10522657\n",
       "2015-01-25     10815097\n",
       "2015-02-01     10496132"
      ]
     },
     "execution_count": 8,
     "metadata": {},
     "output_type": "execute_result"
    }
   ],
   "source": [
    "# load data into a dataframe\n",
    "dateparse = lambda dates: pd.datetime.strptime(dates, '%Y-%m-%d')\n",
    "dataset = pd.read_csv('dataset.csv', parse_dates=[0], index_col='Week', date_parser=dateparse)\n",
    "dataset.head()"
   ]
  },
  {
   "cell_type": "code",
   "execution_count": 9,
   "metadata": {},
   "outputs": [
    {
     "name": "stdout",
     "output_type": "stream",
     "text": [
      "DatetimeIndex(['2015-01-04', '2015-01-11', '2015-01-18', '2015-01-25',\n",
      "               '2015-02-01', '2015-02-08', '2015-02-15', '2015-02-22',\n",
      "               '2015-03-01', '2015-03-08', '2015-03-15', '2015-03-22',\n",
      "               '2015-03-29', '2015-04-05', '2015-04-12', '2015-04-19',\n",
      "               '2015-04-26', '2015-05-03', '2015-05-10', '2015-05-17',\n",
      "               '2015-05-24', '2015-05-31', '2015-06-07', '2015-06-14',\n",
      "               '2015-06-21', '2015-06-28', '2015-07-05', '2015-07-12',\n",
      "               '2015-07-19', '2015-07-26', '2015-08-02', '2015-08-09',\n",
      "               '2015-08-16', '2015-08-23', '2015-08-30', '2015-09-06',\n",
      "               '2015-09-13', '2015-09-20', '2015-09-27', '2015-10-04',\n",
      "               '2015-10-11', '2015-10-18', '2015-10-25', '2015-11-01',\n",
      "               '2015-11-08', '2015-11-15', '2015-11-22', '2015-11-29',\n",
      "               '2015-12-06', '2015-12-13', '2015-12-20', '2015-12-27',\n",
      "               '2016-01-03', '2016-01-10', '2016-01-17', '2016-01-24',\n",
      "               '2016-01-31', '2016-02-07', '2016-02-14', '2016-02-21',\n",
      "               '2016-02-28', '2016-03-06', '2016-03-13', '2016-03-20',\n",
      "               '2016-03-27', '2016-04-03', '2016-04-10', '2016-04-17',\n",
      "               '2016-04-24', '2016-05-01', '2016-05-08', '2016-05-15',\n",
      "               '2016-05-22', '2016-05-29', '2016-06-05', '2016-06-12',\n",
      "               '2016-06-19'],\n",
      "              dtype='datetime64[ns]', name='Week', freq=None)\n"
     ]
    }
   ],
   "source": [
    "#Confirm data has time object as index\n",
    "print(dataset.index)"
   ]
  },
  {
   "cell_type": "code",
   "execution_count": 10,
   "metadata": {},
   "outputs": [],
   "source": [
    "# Create the performance measure functions\n",
    "from sklearn.metrics import mean_squared_error, mean_absolute_error\n",
    "from math import sqrt\n",
    "\n",
    "# function for root mean squared error (RMSE)\n",
    "def rmse(ypred, ytrue):\n",
    "    \"\"\" returns the root mean squared error\"\"\"\n",
    "    return sqrt(mean_squared_error(ytrue, ypred))\n",
    "\n",
    "# function for mean absolute percentage error (MAPE) \n",
    "def mape(ypred, ytrue):\n",
    "    \"\"\" returns the mean absolute percentage error \"\"\"\n",
    "    if np.all(ytrue > 0): # ** Will not work if ytrue contains zeros **\n",
    "        return np.mean(np.abs((ytrue - ypred) / ytrue)) * 100\n",
    "    else:\n",
    "        print('MAPE cannot be calculated. There are zeros in ytrue (one divided by zero issue)')"
   ]
  },
  {
   "cell_type": "code",
   "execution_count": 11,
   "metadata": {},
   "outputs": [
    {
     "name": "stdout",
     "output_type": "stream",
     "text": [
      ">Predicted=10787112.000, Expected=10657990\n",
      ">Predicted=10657990.000, Expected=9877758\n",
      ">Predicted=9877758.000, Expected=9790377\n",
      ">Predicted=9790377.000, Expected=9650213\n",
      ">Predicted=9650213.000, Expected=8990243\n",
      ">Predicted=8990243.000, Expected=9553317\n",
      ">Predicted=9553317.000, Expected=9502191\n",
      ">Predicted=9502191.000, Expected=10757491\n",
      ">Predicted=10757491.000, Expected=10846623\n",
      ">Predicted=10846623.000, Expected=11195422\n",
      ">Predicted=11195422.000, Expected=10256376\n",
      ">Predicted=10256376.000, Expected=9857894\n",
      ">Predicted=9857894.000, Expected=9503049\n",
      ">Predicted=9503049.000, Expected=9066213\n",
      ">Predicted=9066213.000, Expected=8818364\n",
      ">Predicted=8818364.000, Expected=8866741\n",
      ">Predicted=8866741.000, Expected=8536369\n",
      ">Predicted=8536369.000, Expected=8724974\n",
      ">Predicted=8724974.000, Expected=9387870\n",
      ">Predicted=9387870.000, Expected=9607860\n",
      ">Predicted=9607860.000, Expected=9212392\n",
      ">Predicted=9212392.000, Expected=10118937\n",
      ">Predicted=10118937.000, Expected=9872095\n",
      ">Predicted=9872095.000, Expected=10155122\n",
      ">Predicted=10155122.000, Expected=10077972\n",
      ">Predicted=10077972.000, Expected=9638462\n",
      ">Predicted=9638462.000, Expected=10110466\n",
      ">Predicted=10110466.000, Expected=10489731\n",
      ">Predicted=10489731.000, Expected=10037169\n",
      ">Predicted=10037169.000, Expected=9433457\n",
      ">Predicted=9433457.000, Expected=9022807\n",
      ">Predicted=9022807.000, Expected=9165120\n",
      ">Predicted=9165120.000, Expected=7553177\n",
      ">Predicted=7553177.000, Expected=8476566\n",
      ">Predicted=8476566.000, Expected=9188738\n",
      ">Predicted=9188738.000, Expected=9113542\n",
      ">Predicted=9113542.000, Expected=10134488\n",
      ">Predicted=10134488.000, Expected=10656990\n",
      ">Predicted=10656990.000, Expected=9942943\n",
      "RMSE: 586147.794\n",
      "MAPE: 4.96%\n"
     ]
    }
   ],
   "source": [
    "# Models will be evaluated using walk-forward validation. Observation from previous time step is used as the prediction for the observation at the next time step\n",
    "\n",
    "# load data\n",
    "series = dataset[[0]]\n",
    "# prepare data\n",
    "X = series.values\n",
    "X = X.astype('float32')\n",
    "train_size = int(len(X) * 0.50)\n",
    "train, test = X[0:train_size], X[train_size:]\n",
    "# walk-forward validation\n",
    "history = [x for x in train]\n",
    "predictions = list()\n",
    "for i in range(len(test)):\n",
    "    # predict\n",
    "    yhat = history[-1] # Naive forecast to establish a baseline of performance\n",
    "    predictions.append(yhat)\n",
    "    # observation\n",
    "    obs = test[i]\n",
    "    history.append(obs)\n",
    "    print('>Predicted=%.3f, Expected=%3.f' % (yhat, obs))\n",
    "# report performance\n",
    "print('RMSE: %.3f' % rmse(predictions, test)) # root mean squared error (RMSE) measures average error in the same units as original data\n",
    "print('MAPE: %0.2f%%' % mape(predictions, test)) # mean absolute percentage error (MAPE) measures the size of the error in percentage terms."
   ]
  },
  {
   "cell_type": "markdown",
   "metadata": {},
   "source": [
    "#### Exploratory data analysis <a id=\"explore\"></a>"
   ]
  },
  {
   "cell_type": "code",
   "execution_count": 12,
   "metadata": {},
   "outputs": [
    {
     "name": "stdout",
     "output_type": "stream",
     "text": [
      "Stats on TotalVisits:\n",
      "\n",
      "count         77.000\n",
      "mean     9455658.883\n",
      "std       784306.193\n",
      "min      7553177.000\n",
      "25%      8818364.000\n",
      "50%      9460465.000\n",
      "75%     10076208.000\n",
      "max     11195422.000\n",
      "Name: TotalVisits, dtype: float64\n",
      "\n",
      "median--> 9460465.000\n",
      "mode--> Series([], dtype: int64)\n",
      "variance--> 615136204639.683\n",
      "UCL--> 11024271.269\n",
      "LCL--> 7887046.497\n",
      "skewness--> 0.137\n",
      "kurtosis--> -0.682\n",
      "\n"
     ]
    },
    {
     "data": {
      "image/png": "[encoded data removed]",
      "text/plain": [
       "<matplotlib.figure.Figure at 0xd284106208>"
      ]
     },
     "metadata": {},
     "output_type": "display_data"
    },
    {
     "data": {
      "image/png": "[encoded data removed]",
      "text/plain": [
       "<matplotlib.figure.Figure at 0xd28454f6a0>"
      ]
     },
     "metadata": {},
     "output_type": "display_data"
    }
   ],
   "source": [
    "# Univariate Analysis - explore Central Tendency, Measure of Dispersion\n",
    "c = dataset.columns[0] # Variable to analyze\n",
    "df = dataset    # Dataframe variable is in\n",
    "# Stat print out\n",
    "print('Stats on {}:\\n'.format(c))\n",
    "print (df[c].describe())\n",
    "men = df[c].mean()\n",
    "mod = df[c].mode()\n",
    "med = df[c].median(axis = 0)\n",
    "var = df[c].var()\n",
    "ske = df[c].skew()\n",
    "kur = df[c].kurt()\n",
    "std = df[c].std()\n",
    "ucl = men + (std*2) # about 95 percent of the data values are within two standard deviations\n",
    "lcl = men - (std*2) # about 95 percent of the data values are within two standard deviations\n",
    "print('\\nmedian--> {0:.3f}'.format(med))\n",
    "print('mode--> {}'.format(mod))\n",
    "print('variance--> {0:.3f}'.format(var))\n",
    "print('UCL--> {0:.3f}'.format(ucl))\n",
    "print('LCL--> {0:.3f}'.format(lcl))\n",
    "print('skewness--> {0:.3f}'.format(ske))\n",
    "print('kurtosis--> {0:.3f}\\n'.format(kur))\n",
    "# Seaborn graphs below\n",
    "sns.set(style=\"ticks\")\n",
    "f, (ax_box, ax_hist) = plt.subplots(2, sharex=True, gridspec_kw={\"height_ratios\": (.15, .85)})\n",
    "sns.boxplot(df[c].dropna(), ax=ax_box) # box\n",
    "sns.distplot(df[c].dropna(), ax=ax_hist, kde=True, rug=True) #distr\n",
    "ax_box.set(yticks=[])\n",
    "sns.despine(ax=ax_hist)\n",
    "sns.despine(ax=ax_box, left=True)\n",
    "df.plot(y=c); # trend"
   ]
  },
  {
   "cell_type": "markdown",
   "metadata": {},
   "source": [
    "#### Variable transformation <a id=\"transformation\"></a>"
   ]
  },
  {
   "cell_type": "code",
   "execution_count": 14,
   "metadata": {},
   "outputs": [
    {
     "data": {
      "image/png": "[encoded data removed]",
      "text/plain": [
       "<matplotlib.figure.Figure at 0x3e0af0b9e8>"
      ]
     },
     "metadata": {},
     "output_type": "display_data"
    },
    {
     "data": {
      "image/png": "[encoded data removed]",
      "text/plain": [
       "<matplotlib.figure.Figure at 0x3e0b6aa5f8>"
      ]
     },
     "metadata": {},
     "output_type": "display_data"
    }
   ],
   "source": [
    "# Variable transformation (logarithm, square/cube)\n",
    "# Logging converts multiplicative relationships to additive relationships, and by the same token it converts exponential (compound growth) trends to linear trends)\n",
    "\n",
    "c = dataset.columns[0] # Variable to analyze\n",
    "df = dataset    # Dataframe variable is in\n",
    "\n",
    "# Remove any zeros (otherwise we get (-inf)\n",
    "df.loc[df[c] == 0, c] = np.nan\n",
    "\n",
    "# Drop NA\n",
    "df.dropna(subset=[c], inplace=True) \n",
    "\n",
    "# Transform the WebOrderSubmissions to a log value\n",
    "df[c+'_log'] = np.log(df[c])\n",
    "\n",
    "c=c+'_log'\n",
    "# Seaborn graphs below\n",
    "sns.set(style=\"ticks\")\n",
    "f, (ax_box, ax_hist) = plt.subplots(2, sharex=True, gridspec_kw={\"height_ratios\": (.15, .85)})\n",
    "sns.boxplot(df[c].dropna(), ax=ax_box) # box\n",
    "sns.distplot(df[c].dropna(), ax=ax_hist, kde=True, rug=True) #distr\n",
    "ax_box.set(yticks=[])\n",
    "sns.despine(ax=ax_hist)\n",
    "sns.despine(ax=ax_box, left=True)\n",
    "df.plot(y=c); # trend"
   ]
  },
  {
   "cell_type": "markdown",
   "metadata": {},
   "source": [
    "#### Outlier treatment <a id=\"outlier\"></a>"
   ]
  },
  {
   "cell_type": "code",
   "execution_count": 15,
   "metadata": {},
   "outputs": [
    {
     "data": {
      "image/png": "[encoded data removed]",
      "text/plain": [
       "<matplotlib.figure.Figure at 0x3e0ca0a320>"
      ]
     },
     "metadata": {},
     "output_type": "display_data"
    },
    {
     "data": {
      "image/png": "[encoded data removed]",
      "text/plain": [
       "<matplotlib.figure.Figure at 0x3e0b58cbe0>"
      ]
     },
     "metadata": {},
     "output_type": "display_data"
    }
   ],
   "source": [
    "# Outlier treatment (univariate/multivariate w/ deletion, transformation, imputation, or treat separately)\n",
    "# Prophet recommends addressing outliers in by changing them to NaNs\n",
    "\n",
    "c = dataset.columns[1] # Variable to analyze\n",
    "df = dataset    # Dataframe variable is in\n",
    "\n",
    "# Calculate the min and max cuttoffs for detecting the outliers \n",
    "q75, q25 = np.percentile(df[c].dropna(), [75, 25])\n",
    "iqr = q75 - q25\n",
    "min = q25 - (iqr*1.5)    # Lower fence\n",
    "max = q75 + (iqr*1.5)    # Upper fence\n",
    "\n",
    "# Graph the outlier cutoffs\n",
    "# Seaborn graphs below\n",
    "sns.set(style=\"ticks\")\n",
    "f, (ax_box, ax_hist) = plt.subplots(2, sharex=True, gridspec_kw={\"height_ratios\": (.15, .85)})\n",
    "plt.axvline(x=min, color='pink')    # Visualize the outlier cutoffs\n",
    "plt.axvline(x=max, color='pink')    # Visualize the outlier cutoffs\n",
    "sns.boxplot(df[c].dropna(), ax=ax_box) # box\n",
    "sns.distplot(df[c].dropna(), ax=ax_hist, kde=True, rug=True) #distr\n",
    "ax_box.set(yticks=[])\n",
    "sns.despine(ax=ax_hist)\n",
    "sns.despine(ax=ax_box, left=True)\n",
    "df.plot(y=c); # trend"
   ]
  },
  {
   "cell_type": "code",
   "execution_count": 16,
   "metadata": {
    "collapsed": true,
    "jupyter": {
     "outputs_hidden": true
    }
   },
   "outputs": [],
   "source": [
    "# Identify the outliers by creating a column and flagging those data points that are < min and > max \n",
    "df['Outlier'] = 0\n",
    "df.loc[df[c] < min, 'Outlier'] = 1\n",
    "df.loc[df[c] > max, 'Outlier'] = 1"
   ]
  },
  {
   "cell_type": "code",
   "execution_count": 17,
   "metadata": {},
   "outputs": [],
   "source": [
    "# Create a mask of `Outlier` == 0 to get rid of Outliers\n",
    "df = df[(df['Outlier'] == 0)]"
   ]
  },
  {
   "cell_type": "code",
   "execution_count": 18,
   "metadata": {},
   "outputs": [
    {
     "data": {
      "image/png": "[encoded data removed]",
      "text/plain": [
       "<matplotlib.figure.Figure at 0x3e0af0b080>"
      ]
     },
     "metadata": {},
     "output_type": "display_data"
    },
    {
     "data": {
      "image/png": "[encoded data removed]",
      "text/plain": [
       "<matplotlib.figure.Figure at 0x3e0af0b208>"
      ]
     },
     "metadata": {},
     "output_type": "display_data"
    }
   ],
   "source": [
    "# Re-plot the data with the outliers removed\n",
    "# Seaborn graphs below\n",
    "sns.set(style=\"ticks\")\n",
    "f, (ax_box, ax_hist) = plt.subplots(2, sharex=True, gridspec_kw={\"height_ratios\": (.15, .85)})\n",
    "plt.axvline(x=min, color='pink')    # Visualize the outlier cutoffs\n",
    "plt.axvline(x=max, color='pink')    # Visualize the outlier cutoffs\n",
    "sns.boxplot(df[c].dropna(), ax=ax_box) # box\n",
    "sns.distplot(df[c].dropna(), ax=ax_hist, kde=True, rug=True) #distr\n",
    "ax_box.set(yticks=[])\n",
    "sns.despine(ax=ax_hist)\n",
    "sns.despine(ax=ax_box, left=True)\n",
    "df.plot(y=c); # trend"
   ]
  },
  {
   "cell_type": "code",
   "execution_count": 19,
   "metadata": {},
   "outputs": [
    {
     "data": {
      "text/html": [
       "<div>\n",
       "<table border=\"1\" class=\"dataframe\">\n",
       "  <thead>\n",
       "    <tr style=\"text-align: right;\">\n",
       "      <th></th>\n",
       "      <th>TotalVisits</th>\n",
       "      <th>TotalVisits_log</th>\n",
       "    </tr>\n",
       "    <tr>\n",
       "      <th>Week</th>\n",
       "      <th></th>\n",
       "      <th></th>\n",
       "    </tr>\n",
       "  </thead>\n",
       "  <tbody>\n",
       "    <tr>\n",
       "      <th>2015-01-04</th>\n",
       "      <td>10403800.000</td>\n",
       "      <td>16.158</td>\n",
       "    </tr>\n",
       "    <tr>\n",
       "      <th>2015-01-11</th>\n",
       "      <td>10699393.000</td>\n",
       "      <td>16.186</td>\n",
       "    </tr>\n",
       "    <tr>\n",
       "      <th>2015-01-18</th>\n",
       "      <td>10522657.000</td>\n",
       "      <td>16.169</td>\n",
       "    </tr>\n",
       "    <tr>\n",
       "      <th>2015-01-25</th>\n",
       "      <td>10815097.000</td>\n",
       "      <td>16.196</td>\n",
       "    </tr>\n",
       "    <tr>\n",
       "      <th>2015-02-01</th>\n",
       "      <td>10496132.000</td>\n",
       "      <td>16.167</td>\n",
       "    </tr>\n",
       "  </tbody>\n",
       "</table>\n",
       "</div>"
      ],
      "text/plain": [
       "            TotalVisits  TotalVisits_log\n",
       "Week                                    \n",
       "2015-01-04 10403800.000           16.158\n",
       "2015-01-11 10699393.000           16.186\n",
       "2015-01-18 10522657.000           16.169\n",
       "2015-01-25 10815097.000           16.196\n",
       "2015-02-01 10496132.000           16.167"
      ]
     },
     "execution_count": 19,
     "metadata": {},
     "output_type": "execute_result"
    }
   ],
   "source": [
    "# Update df with df to remove outliers\n",
    "dataset.update(df)\n",
    "dataset = dataset.drop('Outlier', axis=1) # drop the outlier column\n",
    "dataset.head()"
   ]
  },
  {
   "cell_type": "code",
   "execution_count": 20,
   "metadata": {},
   "outputs": [
    {
     "data": {
      "text/html": [
       "<div>\n",
       "<table border=\"1\" class=\"dataframe\">\n",
       "  <thead>\n",
       "    <tr style=\"text-align: right;\">\n",
       "      <th></th>\n",
       "      <th>y</th>\n",
       "    </tr>\n",
       "    <tr>\n",
       "      <th>Week</th>\n",
       "      <th></th>\n",
       "    </tr>\n",
       "  </thead>\n",
       "  <tbody>\n",
       "    <tr>\n",
       "      <th>2015-01-04</th>\n",
       "      <td>16.158</td>\n",
       "    </tr>\n",
       "    <tr>\n",
       "      <th>2015-01-11</th>\n",
       "      <td>16.186</td>\n",
       "    </tr>\n",
       "    <tr>\n",
       "      <th>2015-01-18</th>\n",
       "      <td>16.169</td>\n",
       "    </tr>\n",
       "    <tr>\n",
       "      <th>2015-01-25</th>\n",
       "      <td>16.196</td>\n",
       "    </tr>\n",
       "    <tr>\n",
       "      <th>2015-02-01</th>\n",
       "      <td>16.167</td>\n",
       "    </tr>\n",
       "  </tbody>\n",
       "</table>\n",
       "</div>"
      ],
      "text/plain": [
       "                y\n",
       "Week             \n",
       "2015-01-04 16.158\n",
       "2015-01-11 16.186\n",
       "2015-01-18 16.169\n",
       "2015-01-25 16.196\n",
       "2015-02-01 16.167"
      ]
     },
     "execution_count": 20,
     "metadata": {},
     "output_type": "execute_result"
    }
   ],
   "source": [
    "# Rename log column to 'y' and drop raw values column\n",
    "dataset = dataset.drop('TotalVisits', axis=1)\n",
    "dataset.columns = ['y']\n",
    "dataset.head()"
   ]
  },
  {
   "cell_type": "markdown",
   "metadata": {},
   "source": [
    "#### Stationary "
   ]
  },
  {
   "cell_type": "code",
   "execution_count": 21,
   "metadata": {},
   "outputs": [],
   "source": [
    "from statsmodels.tsa.stattools import adfuller\n",
    "\n",
    "def test_stationarity(timeseries):\n",
    "    \n",
    "    #Determing rolling statistics\n",
    "    rolmean = timeseries.rolling(window=4,center=False).mean()\n",
    "    rolstd = timeseries.rolling(window=4,center=False).std()\n",
    "\n",
    "    #Plot rolling statistics:\n",
    "    orig = plt.plot(timeseries, color='blue',label='Original')\n",
    "    mean = plt.plot(rolmean, color='red', label='Rolling Mean')\n",
    "    std = plt.plot(rolstd, color='black', label = 'Rolling Std')\n",
    "    plt.legend(loc='best')\n",
    "    plt.title('Rolling Mean & Standard Deviation')\n",
    "    plt.show(block=False)\n",
    "    \n",
    "    #Perform Dickey-Fuller test: null hypothesis is that the series is not stationary\n",
    "    print('Results of Dickey-Fuller Test:')\n",
    "    dftest = adfuller(timeseries, autolag='AIC')\n",
    "    dfoutput = pd.Series(dftest[0:4], index=['Test Statistic','p-value','#Lags Used','Number of Observations Used'])\n",
    "    for key,value in dftest[4].items():\n",
    "        dfoutput['Critical Value (%s)'%key] = value\n",
    "    print(dfoutput)"
   ]
  },
  {
   "cell_type": "code",
   "execution_count": 22,
   "metadata": {},
   "outputs": [
    {
     "data": {
      "image/png": "[encoded data removed]",
      "text/plain": [
       "<matplotlib.figure.Figure at 0x3e0cc7a3c8>"
      ]
     },
     "metadata": {},
     "output_type": "display_data"
    },
    {
     "name": "stdout",
     "output_type": "stream",
     "text": [
      "Results of Dickey-Fuller Test:\n",
      "Test Statistic                -3.503\n",
      "p-value                        0.008\n",
      "#Lags Used                     0.000\n",
      "Number of Observations Used   76.000\n",
      "Critical Value (1%)           -3.519\n",
      "Critical Value (5%)           -2.900\n",
      "Critical Value (10%)          -2.587\n",
      "dtype: float64\n"
     ]
    }
   ],
   "source": [
    "test_stationarity(dataset['y'])"
   ]
  },
  {
   "cell_type": "code",
   "execution_count": 23,
   "metadata": {
    "collapsed": true,
    "jupyter": {
     "outputs_hidden": true
    }
   },
   "outputs": [],
   "source": [
    "# Make the time series stationary with either detrending, differencing, or seasonality\n",
    "\n",
    "# def difference(dataset):\n",
    "# ''' difference function'''\n",
    "#     diff = list()\n",
    "#     for i in range(1, len(dataset)):\n",
    "#         value = dataset[i] - dataset[i - 1]\n",
    "#         diff.append(value)\n",
    "#     return Series(diff)\n"
   ]
  },
  {
   "cell_type": "markdown",
   "metadata": {},
   "source": [
    "#### Modeling <a id=\"model\"></a>"
   ]
  },
  {
   "cell_type": "code",
   "execution_count": 24,
   "metadata": {},
   "outputs": [
    {
     "data": {
      "text/html": [
       "<div>\n",
       "<table border=\"1\" class=\"dataframe\">\n",
       "  <thead>\n",
       "    <tr style=\"text-align: right;\">\n",
       "      <th></th>\n",
       "      <th>y</th>\n",
       "    </tr>\n",
       "    <tr>\n",
       "      <th>Week</th>\n",
       "      <th></th>\n",
       "    </tr>\n",
       "  </thead>\n",
       "  <tbody>\n",
       "    <tr>\n",
       "      <th>2015-01-04</th>\n",
       "      <td>16.158</td>\n",
       "    </tr>\n",
       "    <tr>\n",
       "      <th>2015-01-11</th>\n",
       "      <td>16.186</td>\n",
       "    </tr>\n",
       "    <tr>\n",
       "      <th>2015-01-18</th>\n",
       "      <td>16.169</td>\n",
       "    </tr>\n",
       "    <tr>\n",
       "      <th>2015-01-25</th>\n",
       "      <td>16.196</td>\n",
       "    </tr>\n",
       "    <tr>\n",
       "      <th>2015-02-01</th>\n",
       "      <td>16.167</td>\n",
       "    </tr>\n",
       "  </tbody>\n",
       "</table>\n",
       "</div>"
      ],
      "text/plain": [
       "                y\n",
       "Week             \n",
       "2015-01-04 16.158\n",
       "2015-01-11 16.186\n",
       "2015-01-18 16.169\n",
       "2015-01-25 16.196\n",
       "2015-02-01 16.167"
      ]
     },
     "execution_count": 24,
     "metadata": {},
     "output_type": "execute_result"
    }
   ],
   "source": [
    "dataset.head()"
   ]
  },
  {
   "cell_type": "code",
   "execution_count": 25,
   "metadata": {},
   "outputs": [
    {
     "data": {
      "text/html": [
       "<div>\n",
       "<table border=\"1\" class=\"dataframe\">\n",
       "  <thead>\n",
       "    <tr style=\"text-align: right;\">\n",
       "      <th></th>\n",
       "      <th>ds</th>\n",
       "      <th>y</th>\n",
       "    </tr>\n",
       "  </thead>\n",
       "  <tbody>\n",
       "    <tr>\n",
       "      <th>0</th>\n",
       "      <td>2015-01-04</td>\n",
       "      <td>16.158</td>\n",
       "    </tr>\n",
       "    <tr>\n",
       "      <th>1</th>\n",
       "      <td>2015-01-11</td>\n",
       "      <td>16.186</td>\n",
       "    </tr>\n",
       "    <tr>\n",
       "      <th>2</th>\n",
       "      <td>2015-01-18</td>\n",
       "      <td>16.169</td>\n",
       "    </tr>\n",
       "    <tr>\n",
       "      <th>3</th>\n",
       "      <td>2015-01-25</td>\n",
       "      <td>16.196</td>\n",
       "    </tr>\n",
       "    <tr>\n",
       "      <th>4</th>\n",
       "      <td>2015-02-01</td>\n",
       "      <td>16.167</td>\n",
       "    </tr>\n",
       "  </tbody>\n",
       "</table>\n",
       "</div>"
      ],
      "text/plain": [
       "          ds      y\n",
       "0 2015-01-04 16.158\n",
       "1 2015-01-11 16.186\n",
       "2 2015-01-18 16.169\n",
       "3 2015-01-25 16.196\n",
       "4 2015-02-01 16.167"
      ]
     },
     "execution_count": 25,
     "metadata": {},
     "output_type": "execute_result"
    }
   ],
   "source": [
    "dataset = dataset.reset_index()\n",
    "dataset.rename(columns={'Week':'ds'}, inplace=True)\n",
    "dataset.head()"
   ]
  },
  {
   "cell_type": "code",
   "execution_count": 26,
   "metadata": {
    "collapsed": true,
    "jupyter": {
     "outputs_hidden": true
    }
   },
   "outputs": [],
   "source": [
    "# Use fbprophet to forecast\n",
    "import pystan\n",
    "from fbprophet import Prophet"
   ]
  },
  {
   "cell_type": "code",
   "execution_count": 27,
   "metadata": {},
   "outputs": [
    {
     "data": {
      "text/html": [
       "<div>\n",
       "<table border=\"1\" class=\"dataframe\">\n",
       "  <thead>\n",
       "    <tr style=\"text-align: right;\">\n",
       "      <th></th>\n",
       "      <th>year</th>\n",
       "      <th>wk</th>\n",
       "      <th>name</th>\n",
       "      <th>date</th>\n",
       "      <th>sunday</th>\n",
       "    </tr>\n",
       "  </thead>\n",
       "  <tbody>\n",
       "    <tr>\n",
       "      <th>0</th>\n",
       "      <td>2015</td>\n",
       "      <td>1</td>\n",
       "      <td>NYE</td>\n",
       "      <td>2015-01-01</td>\n",
       "      <td>2014-12-28</td>\n",
       "    </tr>\n",
       "    <tr>\n",
       "      <th>1</th>\n",
       "      <td>2015</td>\n",
       "      <td>4</td>\n",
       "      <td>MLK</td>\n",
       "      <td>2015-01-19</td>\n",
       "      <td>2015-01-18</td>\n",
       "    </tr>\n",
       "    <tr>\n",
       "      <th>2</th>\n",
       "      <td>2015</td>\n",
       "      <td>8</td>\n",
       "      <td>Washington</td>\n",
       "      <td>2015-02-16</td>\n",
       "      <td>2015-02-15</td>\n",
       "    </tr>\n",
       "    <tr>\n",
       "      <th>3</th>\n",
       "      <td>2015</td>\n",
       "      <td>14</td>\n",
       "      <td>Good Friday</td>\n",
       "      <td>2015-04-03</td>\n",
       "      <td>2015-03-29</td>\n",
       "    </tr>\n",
       "    <tr>\n",
       "      <th>4</th>\n",
       "      <td>2015</td>\n",
       "      <td>22</td>\n",
       "      <td>Memorial</td>\n",
       "      <td>2015-05-25</td>\n",
       "      <td>2015-05-24</td>\n",
       "    </tr>\n",
       "  </tbody>\n",
       "</table>\n",
       "</div>"
      ],
      "text/plain": [
       "   year  wk         name       date     sunday\n",
       "0  2015   1          NYE 2015-01-01 2014-12-28\n",
       "1  2015   4          MLK 2015-01-19 2015-01-18\n",
       "2  2015   8   Washington 2015-02-16 2015-02-15\n",
       "3  2015  14  Good Friday 2015-04-03 2015-03-29\n",
       "4  2015  22     Memorial 2015-05-25 2015-05-24"
      ]
     },
     "execution_count": 27,
     "metadata": {},
     "output_type": "execute_result"
    }
   ],
   "source": [
    "# Let's try to model holidays. Read in the excel file with the holidays listed\n",
    "hhelper = pd.read_excel('holidays_helper.xlsx', sheetname=0, index_col=None)\n",
    "hhelper.head()"
   ]
  },
  {
   "cell_type": "code",
   "execution_count": 28,
   "metadata": {},
   "outputs": [
    {
     "name": "stdout",
     "output_type": "stream",
     "text": [
      "<class 'pandas.core.frame.DataFrame'>\n",
      "RangeIndex: 42 entries, 0 to 41\n",
      "Data columns (total 5 columns):\n",
      "year      42 non-null int64\n",
      "wk        42 non-null int64\n",
      "name      42 non-null object\n",
      "date      42 non-null datetime64[ns]\n",
      "sunday    42 non-null datetime64[ns]\n",
      "dtypes: datetime64[ns](2), int64(2), object(1)\n",
      "memory usage: 1.7+ KB\n"
     ]
    }
   ],
   "source": [
    "hhelper.info()"
   ]
  },
  {
   "cell_type": "code",
   "execution_count": 29,
   "metadata": {},
   "outputs": [
    {
     "data": {
      "text/html": [
       "<div>\n",
       "<table border=\"1\" class=\"dataframe\">\n",
       "  <thead>\n",
       "    <tr style=\"text-align: right;\">\n",
       "      <th></th>\n",
       "      <th>ds</th>\n",
       "      <th>holiday</th>\n",
       "      <th>lower_window</th>\n",
       "      <th>upper_window</th>\n",
       "    </tr>\n",
       "  </thead>\n",
       "  <tbody>\n",
       "    <tr>\n",
       "      <th>0</th>\n",
       "      <td>2014-12-28</td>\n",
       "      <td>fed_holiday</td>\n",
       "      <td>0</td>\n",
       "      <td>1</td>\n",
       "    </tr>\n",
       "    <tr>\n",
       "      <th>1</th>\n",
       "      <td>2015-01-18</td>\n",
       "      <td>fed_holiday</td>\n",
       "      <td>0</td>\n",
       "      <td>1</td>\n",
       "    </tr>\n",
       "    <tr>\n",
       "      <th>2</th>\n",
       "      <td>2015-02-15</td>\n",
       "      <td>fed_holiday</td>\n",
       "      <td>0</td>\n",
       "      <td>1</td>\n",
       "    </tr>\n",
       "    <tr>\n",
       "      <th>3</th>\n",
       "      <td>2015-03-29</td>\n",
       "      <td>fed_holiday</td>\n",
       "      <td>0</td>\n",
       "      <td>1</td>\n",
       "    </tr>\n",
       "    <tr>\n",
       "      <th>4</th>\n",
       "      <td>2015-05-24</td>\n",
       "      <td>fed_holiday</td>\n",
       "      <td>0</td>\n",
       "      <td>1</td>\n",
       "    </tr>\n",
       "  </tbody>\n",
       "</table>\n",
       "</div>"
      ],
      "text/plain": [
       "          ds      holiday  lower_window  upper_window\n",
       "0 2014-12-28  fed_holiday             0             1\n",
       "1 2015-01-18  fed_holiday             0             1\n",
       "2 2015-02-15  fed_holiday             0             1\n",
       "3 2015-03-29  fed_holiday             0             1\n",
       "4 2015-05-24  fed_holiday             0             1"
      ]
     },
     "execution_count": 29,
     "metadata": {},
     "output_type": "execute_result"
    }
   ],
   "source": [
    "# Account for holidays in the model. To capture the holidays, define a holiday dataframe with a datestamp and the description of the holiday:\n",
    "holiday_df = pd.DataFrame({\n",
    "  'holiday': 'fed_holiday',\n",
    "  'ds': hhelper['sunday'],\n",
    "  'lower_window': 0,\n",
    "  'upper_window': 1\n",
    "})\n",
    "holiday_df.head()"
   ]
  },
  {
   "cell_type": "code",
   "execution_count": 30,
   "metadata": {},
   "outputs": [
    {
     "data": {
      "text/html": [
       "<div>\n",
       "<table border=\"1\" class=\"dataframe\">\n",
       "  <thead>\n",
       "    <tr style=\"text-align: right;\">\n",
       "      <th></th>\n",
       "      <th>ds</th>\n",
       "      <th>y</th>\n",
       "    </tr>\n",
       "  </thead>\n",
       "  <tbody>\n",
       "    <tr>\n",
       "      <th>0</th>\n",
       "      <td>2015-01-04</td>\n",
       "      <td>16.158</td>\n",
       "    </tr>\n",
       "    <tr>\n",
       "      <th>1</th>\n",
       "      <td>2015-01-11</td>\n",
       "      <td>16.186</td>\n",
       "    </tr>\n",
       "    <tr>\n",
       "      <th>2</th>\n",
       "      <td>2015-01-18</td>\n",
       "      <td>16.169</td>\n",
       "    </tr>\n",
       "    <tr>\n",
       "      <th>3</th>\n",
       "      <td>2015-01-25</td>\n",
       "      <td>16.196</td>\n",
       "    </tr>\n",
       "    <tr>\n",
       "      <th>4</th>\n",
       "      <td>2015-02-01</td>\n",
       "      <td>16.167</td>\n",
       "    </tr>\n",
       "  </tbody>\n",
       "</table>\n",
       "</div>"
      ],
      "text/plain": [
       "          ds      y\n",
       "0 2015-01-04 16.158\n",
       "1 2015-01-11 16.186\n",
       "2 2015-01-18 16.169\n",
       "3 2015-01-25 16.196\n",
       "4 2015-02-01 16.167"
      ]
     },
     "execution_count": 30,
     "metadata": {},
     "output_type": "execute_result"
    }
   ],
   "source": [
    "dataset.head()"
   ]
  },
  {
   "cell_type": "code",
   "execution_count": 32,
   "metadata": {},
   "outputs": [
    {
     "data": {
      "image/png": "[encoded data removed]",
      "text/plain": [
       "<matplotlib.figure.Figure at 0x3e06e535f8>"
      ]
     },
     "metadata": {},
     "output_type": "display_data"
    }
   ],
   "source": [
    "m1 = Prophet(growth='linear',\n",
    "             changepoint_prior_scale=0.09,\n",
    "             #n_changepoints=7,\n",
    "             #changepoints= #List,\n",
    "             #yearly_seasonality=boolean\n",
    "             weekly_seasonality=False,\n",
    "             mcmc_samples=500,\n",
    "             holidays=holiday_df, # To use the holidays in the model, pass it to the model via the 'holidays' keyword\n",
    "             holidays_prior_scale=4,\n",
    "             seasonality_prior_scale=5,\n",
    "             uncertainty_samples=500,\n",
    "             interval_width=0.95,\n",
    "            ).fit(dataset)\n",
    "future1 = m1.make_future_dataframe(periods=1, freq='W-SUN')\n",
    "forecast1 = m1.predict(future1)\n",
    "m1.plot(forecast1); # New forecast based on model that includes holidays"
   ]
  },
  {
   "cell_type": "code",
   "execution_count": 33,
   "metadata": {},
   "outputs": [
    {
     "data": {
      "text/html": [
       "<div>\n",
       "<table border=\"1\" class=\"dataframe\">\n",
       "  <thead>\n",
       "    <tr style=\"text-align: right;\">\n",
       "      <th></th>\n",
       "      <th>ds</th>\n",
       "      <th>y</th>\n",
       "    </tr>\n",
       "  </thead>\n",
       "  <tbody>\n",
       "    <tr>\n",
       "      <th>72</th>\n",
       "      <td>2016-05-22</td>\n",
       "      <td>16.033</td>\n",
       "    </tr>\n",
       "    <tr>\n",
       "      <th>73</th>\n",
       "      <td>2016-05-29</td>\n",
       "      <td>16.025</td>\n",
       "    </tr>\n",
       "    <tr>\n",
       "      <th>74</th>\n",
       "      <td>2016-06-05</td>\n",
       "      <td>16.131</td>\n",
       "    </tr>\n",
       "    <tr>\n",
       "      <th>75</th>\n",
       "      <td>2016-06-12</td>\n",
       "      <td>16.182</td>\n",
       "    </tr>\n",
       "    <tr>\n",
       "      <th>76</th>\n",
       "      <td>2016-06-19</td>\n",
       "      <td>16.112</td>\n",
       "    </tr>\n",
       "  </tbody>\n",
       "</table>\n",
       "</div>"
      ],
      "text/plain": [
       "           ds      y\n",
       "72 2016-05-22 16.033\n",
       "73 2016-05-29 16.025\n",
       "74 2016-06-05 16.131\n",
       "75 2016-06-12 16.182\n",
       "76 2016-06-19 16.112"
      ]
     },
     "execution_count": 33,
     "metadata": {},
     "output_type": "execute_result"
    }
   ],
   "source": [
    "dataset.tail()"
   ]
  },
  {
   "cell_type": "code",
   "execution_count": 34,
   "metadata": {},
   "outputs": [
    {
     "name": "stdout",
     "output_type": "stream",
     "text": [
      "     yhat\n",
      "77 16.103\n"
     ]
    }
   ],
   "source": [
    "#16.108\n",
    "a = forecast1.iloc[-1:, -1:]\n",
    "print(a)"
   ]
  },
  {
   "cell_type": "code",
   "execution_count": null,
   "metadata": {},
   "outputs": [],
   "source": [
    "i = 1\n",
    "test.iloc[i-1:i]"
   ]
  },
  {
   "cell_type": "code",
   "execution_count": 97,
   "metadata": {},
   "outputs": [
    {
     "name": "stdout",
     "output_type": "stream",
     "text": [
      ">Predicted=16.172\n",
      ">Predicted=16.172\n",
      ">Predicted=16.172\n",
      ">Predicted=16.172\n",
      ">Predicted=16.172\n",
      ">Predicted=16.172\n",
      ">Predicted=16.172\n",
      ">Predicted=16.172\n",
      ">Predicted=16.172\n",
      ">Predicted=16.172\n",
      ">Predicted=16.172\n",
      ">Predicted=16.172\n",
      ">Predicted=16.172\n",
      ">Predicted=16.172\n",
      ">Predicted=16.172\n",
      ">Predicted=16.172\n",
      ">Predicted=16.172\n",
      ">Predicted=16.172\n",
      ">Predicted=16.172\n",
      ">Predicted=16.172\n",
      ">Predicted=16.172\n",
      ">Predicted=16.172\n",
      ">Predicted=16.172\n",
      ">Predicted=16.172\n",
      ">Predicted=16.172\n",
      ">Predicted=16.172\n",
      ">Predicted=16.172\n",
      ">Predicted=16.172\n",
      ">Predicted=16.172\n",
      ">Predicted=16.172\n",
      ">Predicted=16.172\n",
      ">Predicted=16.172\n",
      ">Predicted=16.172\n",
      ">Predicted=16.172\n",
      ">Predicted=16.172\n",
      ">Predicted=16.172\n",
      ">Predicted=16.172\n",
      ">Predicted=16.172\n",
      ">Predicted=16.172\n"
     ]
    }
   ],
   "source": [
    "# Models will be evaluated using walk-forward validation. Observation from previous time step is used as the prediction for the observation at the next time step\n",
    "\n",
    "# load data\n",
    "series = dataset\n",
    "# prepare data\n",
    "X = series\n",
    "train_size = int(len(X) * 0.50)\n",
    "train, test = X[0:train_size], X[train_size:]\n",
    "# walk-forward validation\n",
    "history = train\n",
    "predictions = list()\n",
    "for i in range(len(test)):\n",
    "    # predict\n",
    "    model = Prophet(growth='linear',\n",
    "             changepoint_prior_scale=0.09,\n",
    "             #n_changepoints=7,\n",
    "             #changepoints= #List,\n",
    "             #yearly_seasonality=boolean\n",
    "             weekly_seasonality=False,\n",
    "             #mcmc_samples=500,\n",
    "             holidays=holiday_df, # To use the holidays in the model, pass it to the model via the 'holidays' keyword\n",
    "             holidays_prior_scale=4,\n",
    "             seasonality_prior_scale=5,\n",
    "             uncertainty_samples=500,\n",
    "             interval_width=0.95,\n",
    "            )\n",
    "    model_fit = model.fit(history)\n",
    "    future1 = model.make_future_dataframe(periods=1, freq='W-SUN')\n",
    "    forecast1 = m1.predict(future1)\n",
    "    yhat = forecast1.iloc[-1:, -1:].values\n",
    "    predictions.append(yhat)\n",
    "    # observation\n",
    "    obs = test.iloc[i-1:i,-1].values\n",
    "    obs = obs.astype('float32')\n",
    "    ## http://pandas.pydata.org/pandas-docs/stable/generated/pandas.DataFrame.append.html\n",
    "    # Need to fix this --> history = pd.append(test.iloc[i-1:i])\n",
    "    print('>Predicted=%.3f' % (yhat))\n",
    "#     print('>Predicted=%.3f, Expected=%3.f' % (yhat, obs))\n",
    "# # report performance\n",
    "# print('RMSE: %.3f' % rmse(predictions, test)) # root mean squared error (RMSE) measures average error in the same units as original data\n",
    "# print('MAPE: %0.2f%%' % mape(predictions, test)) # mean absolute percentage error (MAPE) measures the size of the error in percentage terms."
   ]
  },
  {
   "cell_type": "code",
   "execution_count": 100,
   "metadata": {},
   "outputs": [
    {
     "data": {
      "text/html": [
       "<div>\n",
       "<table border=\"1\" class=\"dataframe\">\n",
       "  <thead>\n",
       "    <tr style=\"text-align: right;\">\n",
       "      <th></th>\n",
       "      <th>ds</th>\n",
       "      <th>y</th>\n",
       "    </tr>\n",
       "  </thead>\n",
       "  <tbody>\n",
       "    <tr>\n",
       "      <th>0</th>\n",
       "      <td>2015-01-04</td>\n",
       "      <td>16.158</td>\n",
       "    </tr>\n",
       "    <tr>\n",
       "      <th>1</th>\n",
       "      <td>2015-01-11</td>\n",
       "      <td>16.186</td>\n",
       "    </tr>\n",
       "    <tr>\n",
       "      <th>2</th>\n",
       "      <td>2015-01-18</td>\n",
       "      <td>16.169</td>\n",
       "    </tr>\n",
       "    <tr>\n",
       "      <th>3</th>\n",
       "      <td>2015-01-25</td>\n",
       "      <td>16.196</td>\n",
       "    </tr>\n",
       "    <tr>\n",
       "      <th>4</th>\n",
       "      <td>2015-02-01</td>\n",
       "      <td>16.167</td>\n",
       "    </tr>\n",
       "    <tr>\n",
       "      <th>...</th>\n",
       "      <td>...</td>\n",
       "      <td>...</td>\n",
       "    </tr>\n",
       "    <tr>\n",
       "      <th>33</th>\n",
       "      <td>2015-08-23</td>\n",
       "      <td>16.077</td>\n",
       "    </tr>\n",
       "    <tr>\n",
       "      <th>34</th>\n",
       "      <td>2015-08-30</td>\n",
       "      <td>16.097</td>\n",
       "    </tr>\n",
       "    <tr>\n",
       "      <th>35</th>\n",
       "      <td>2015-09-06</td>\n",
       "      <td>16.126</td>\n",
       "    </tr>\n",
       "    <tr>\n",
       "      <th>36</th>\n",
       "      <td>2015-09-13</td>\n",
       "      <td>16.100</td>\n",
       "    </tr>\n",
       "    <tr>\n",
       "      <th>37</th>\n",
       "      <td>2015-09-20</td>\n",
       "      <td>16.194</td>\n",
       "    </tr>\n",
       "  </tbody>\n",
       "</table>\n",
       "<p>38 rows × 2 columns</p>\n",
       "</div>"
      ],
      "text/plain": [
       "           ds      y\n",
       "0  2015-01-04 16.158\n",
       "1  2015-01-11 16.186\n",
       "2  2015-01-18 16.169\n",
       "3  2015-01-25 16.196\n",
       "4  2015-02-01 16.167\n",
       "..        ...    ...\n",
       "33 2015-08-23 16.077\n",
       "34 2015-08-30 16.097\n",
       "35 2015-09-06 16.126\n",
       "36 2015-09-13 16.100\n",
       "37 2015-09-20 16.194\n",
       "\n",
       "[38 rows x 2 columns]"
      ]
     },
     "execution_count": 100,
     "metadata": {},
     "output_type": "execute_result"
    }
   ],
   "source": [
    "history"
   ]
  },
  {
   "cell_type": "code",
   "execution_count": 99,
   "metadata": {},
   "outputs": [
    {
     "data": {
      "text/html": [
       "<div>\n",
       "<table border=\"1\" class=\"dataframe\">\n",
       "  <thead>\n",
       "    <tr style=\"text-align: right;\">\n",
       "      <th></th>\n",
       "      <th>ds</th>\n",
       "      <th>y</th>\n",
       "    </tr>\n",
       "  </thead>\n",
       "  <tbody>\n",
       "    <tr>\n",
       "      <th>0</th>\n",
       "      <td>2015-01-04</td>\n",
       "      <td>16.158</td>\n",
       "    </tr>\n",
       "    <tr>\n",
       "      <th>1</th>\n",
       "      <td>2015-01-11</td>\n",
       "      <td>16.186</td>\n",
       "    </tr>\n",
       "    <tr>\n",
       "      <th>2</th>\n",
       "      <td>2015-01-18</td>\n",
       "      <td>16.169</td>\n",
       "    </tr>\n",
       "    <tr>\n",
       "      <th>3</th>\n",
       "      <td>2015-01-25</td>\n",
       "      <td>16.196</td>\n",
       "    </tr>\n",
       "    <tr>\n",
       "      <th>4</th>\n",
       "      <td>2015-02-01</td>\n",
       "      <td>16.167</td>\n",
       "    </tr>\n",
       "    <tr>\n",
       "      <th>...</th>\n",
       "      <td>...</td>\n",
       "      <td>...</td>\n",
       "    </tr>\n",
       "    <tr>\n",
       "      <th>33</th>\n",
       "      <td>2015-08-23</td>\n",
       "      <td>16.077</td>\n",
       "    </tr>\n",
       "    <tr>\n",
       "      <th>34</th>\n",
       "      <td>2015-08-30</td>\n",
       "      <td>16.097</td>\n",
       "    </tr>\n",
       "    <tr>\n",
       "      <th>35</th>\n",
       "      <td>2015-09-06</td>\n",
       "      <td>16.126</td>\n",
       "    </tr>\n",
       "    <tr>\n",
       "      <th>36</th>\n",
       "      <td>2015-09-13</td>\n",
       "      <td>16.100</td>\n",
       "    </tr>\n",
       "    <tr>\n",
       "      <th>37</th>\n",
       "      <td>2015-09-20</td>\n",
       "      <td>16.194</td>\n",
       "    </tr>\n",
       "  </tbody>\n",
       "</table>\n",
       "<p>38 rows × 2 columns</p>\n",
       "</div>"
      ],
      "text/plain": [
       "           ds      y\n",
       "0  2015-01-04 16.158\n",
       "1  2015-01-11 16.186\n",
       "2  2015-01-18 16.169\n",
       "3  2015-01-25 16.196\n",
       "4  2015-02-01 16.167\n",
       "..        ...    ...\n",
       "33 2015-08-23 16.077\n",
       "34 2015-08-30 16.097\n",
       "35 2015-09-06 16.126\n",
       "36 2015-09-13 16.100\n",
       "37 2015-09-20 16.194\n",
       "\n",
       "[38 rows x 2 columns]"
      ]
     },
     "execution_count": 99,
     "metadata": {},
     "output_type": "execute_result"
    }
   ],
   "source": [
    "train"
   ]
  },
  {
   "cell_type": "code",
   "execution_count": 98,
   "metadata": {},
   "outputs": [
    {
     "data": {
      "text/html": [
       "<div>\n",
       "<table border=\"1\" class=\"dataframe\">\n",
       "  <thead>\n",
       "    <tr style=\"text-align: right;\">\n",
       "      <th></th>\n",
       "      <th>ds</th>\n",
       "      <th>t</th>\n",
       "      <th>trend</th>\n",
       "      <th>seasonal_lower</th>\n",
       "      <th>seasonal_upper</th>\n",
       "      <th>trend_lower</th>\n",
       "      <th>trend_upper</th>\n",
       "      <th>yhat_lower</th>\n",
       "      <th>yhat_upper</th>\n",
       "      <th>fed_holiday</th>\n",
       "      <th>fed_holiday_lower</th>\n",
       "      <th>fed_holiday_upper</th>\n",
       "      <th>yearly</th>\n",
       "      <th>yearly_lower</th>\n",
       "      <th>yearly_upper</th>\n",
       "      <th>seasonal</th>\n",
       "      <th>yhat</th>\n",
       "    </tr>\n",
       "  </thead>\n",
       "  <tbody>\n",
       "    <tr>\n",
       "      <th>0</th>\n",
       "      <td>2015-01-04</td>\n",
       "      <td>0.000</td>\n",
       "      <td>16.160</td>\n",
       "      <td>-0.433</td>\n",
       "      <td>0.473</td>\n",
       "      <td>15.705</td>\n",
       "      <td>16.625</td>\n",
       "      <td>16.083</td>\n",
       "      <td>16.295</td>\n",
       "      <td>0.000</td>\n",
       "      <td>0.000</td>\n",
       "      <td>0.000</td>\n",
       "      <td>0.024</td>\n",
       "      <td>-0.433</td>\n",
       "      <td>0.473</td>\n",
       "      <td>0.024</td>\n",
       "      <td>16.184</td>\n",
       "    </tr>\n",
       "    <tr>\n",
       "      <th>1</th>\n",
       "      <td>2015-01-11</td>\n",
       "      <td>0.013</td>\n",
       "      <td>16.153</td>\n",
       "      <td>-0.428</td>\n",
       "      <td>0.461</td>\n",
       "      <td>15.727</td>\n",
       "      <td>16.592</td>\n",
       "      <td>16.082</td>\n",
       "      <td>16.269</td>\n",
       "      <td>0.000</td>\n",
       "      <td>0.000</td>\n",
       "      <td>0.000</td>\n",
       "      <td>0.027</td>\n",
       "      <td>-0.428</td>\n",
       "      <td>0.461</td>\n",
       "      <td>0.027</td>\n",
       "      <td>16.180</td>\n",
       "    </tr>\n",
       "    <tr>\n",
       "      <th>2</th>\n",
       "      <td>2015-01-18</td>\n",
       "      <td>0.026</td>\n",
       "      <td>16.146</td>\n",
       "      <td>-0.419</td>\n",
       "      <td>0.437</td>\n",
       "      <td>15.736</td>\n",
       "      <td>16.583</td>\n",
       "      <td>16.072</td>\n",
       "      <td>16.261</td>\n",
       "      <td>-0.021</td>\n",
       "      <td>-0.045</td>\n",
       "      <td>0.005</td>\n",
       "      <td>0.041</td>\n",
       "      <td>-0.394</td>\n",
       "      <td>0.461</td>\n",
       "      <td>0.020</td>\n",
       "      <td>16.166</td>\n",
       "    </tr>\n",
       "    <tr>\n",
       "      <th>3</th>\n",
       "      <td>2015-01-25</td>\n",
       "      <td>0.039</td>\n",
       "      <td>16.122</td>\n",
       "      <td>-0.373</td>\n",
       "      <td>0.438</td>\n",
       "      <td>15.743</td>\n",
       "      <td>16.538</td>\n",
       "      <td>16.075</td>\n",
       "      <td>16.256</td>\n",
       "      <td>0.000</td>\n",
       "      <td>0.000</td>\n",
       "      <td>0.000</td>\n",
       "      <td>0.043</td>\n",
       "      <td>-0.373</td>\n",
       "      <td>0.438</td>\n",
       "      <td>0.043</td>\n",
       "      <td>16.165</td>\n",
       "    </tr>\n",
       "    <tr>\n",
       "      <th>4</th>\n",
       "      <td>2015-02-01</td>\n",
       "      <td>0.053</td>\n",
       "      <td>16.098</td>\n",
       "      <td>-0.376</td>\n",
       "      <td>0.411</td>\n",
       "      <td>15.724</td>\n",
       "      <td>16.494</td>\n",
       "      <td>16.037</td>\n",
       "      <td>16.222</td>\n",
       "      <td>0.000</td>\n",
       "      <td>0.000</td>\n",
       "      <td>0.000</td>\n",
       "      <td>0.027</td>\n",
       "      <td>-0.376</td>\n",
       "      <td>0.411</td>\n",
       "      <td>0.027</td>\n",
       "      <td>16.126</td>\n",
       "    </tr>\n",
       "    <tr>\n",
       "      <th>...</th>\n",
       "      <td>...</td>\n",
       "      <td>...</td>\n",
       "      <td>...</td>\n",
       "      <td>...</td>\n",
       "      <td>...</td>\n",
       "      <td>...</td>\n",
       "      <td>...</td>\n",
       "      <td>...</td>\n",
       "      <td>...</td>\n",
       "      <td>...</td>\n",
       "      <td>...</td>\n",
       "      <td>...</td>\n",
       "      <td>...</td>\n",
       "      <td>...</td>\n",
       "      <td>...</td>\n",
       "      <td>...</td>\n",
       "      <td>...</td>\n",
       "    </tr>\n",
       "    <tr>\n",
       "      <th>34</th>\n",
       "      <td>2015-08-30</td>\n",
       "      <td>0.447</td>\n",
       "      <td>16.074</td>\n",
       "      <td>-0.341</td>\n",
       "      <td>0.452</td>\n",
       "      <td>15.668</td>\n",
       "      <td>16.462</td>\n",
       "      <td>16.019</td>\n",
       "      <td>16.211</td>\n",
       "      <td>0.000</td>\n",
       "      <td>0.000</td>\n",
       "      <td>0.000</td>\n",
       "      <td>0.040</td>\n",
       "      <td>-0.341</td>\n",
       "      <td>0.452</td>\n",
       "      <td>0.040</td>\n",
       "      <td>16.115</td>\n",
       "    </tr>\n",
       "    <tr>\n",
       "      <th>35</th>\n",
       "      <td>2015-09-06</td>\n",
       "      <td>0.461</td>\n",
       "      <td>16.065</td>\n",
       "      <td>-0.330</td>\n",
       "      <td>0.444</td>\n",
       "      <td>15.679</td>\n",
       "      <td>16.430</td>\n",
       "      <td>16.003</td>\n",
       "      <td>16.200</td>\n",
       "      <td>-0.021</td>\n",
       "      <td>-0.045</td>\n",
       "      <td>0.005</td>\n",
       "      <td>0.055</td>\n",
       "      <td>-0.318</td>\n",
       "      <td>0.460</td>\n",
       "      <td>0.034</td>\n",
       "      <td>16.098</td>\n",
       "    </tr>\n",
       "    <tr>\n",
       "      <th>36</th>\n",
       "      <td>2015-09-13</td>\n",
       "      <td>0.474</td>\n",
       "      <td>16.055</td>\n",
       "      <td>-0.311</td>\n",
       "      <td>0.467</td>\n",
       "      <td>15.680</td>\n",
       "      <td>16.436</td>\n",
       "      <td>16.036</td>\n",
       "      <td>16.238</td>\n",
       "      <td>0.000</td>\n",
       "      <td>0.000</td>\n",
       "      <td>0.000</td>\n",
       "      <td>0.078</td>\n",
       "      <td>-0.311</td>\n",
       "      <td>0.467</td>\n",
       "      <td>0.078</td>\n",
       "      <td>16.132</td>\n",
       "    </tr>\n",
       "    <tr>\n",
       "      <th>37</th>\n",
       "      <td>2015-09-20</td>\n",
       "      <td>0.487</td>\n",
       "      <td>16.045</td>\n",
       "      <td>-0.281</td>\n",
       "      <td>0.497</td>\n",
       "      <td>15.656</td>\n",
       "      <td>16.443</td>\n",
       "      <td>16.060</td>\n",
       "      <td>16.253</td>\n",
       "      <td>0.000</td>\n",
       "      <td>0.000</td>\n",
       "      <td>0.000</td>\n",
       "      <td>0.113</td>\n",
       "      <td>-0.281</td>\n",
       "      <td>0.497</td>\n",
       "      <td>0.113</td>\n",
       "      <td>16.158</td>\n",
       "    </tr>\n",
       "    <tr>\n",
       "      <th>38</th>\n",
       "      <td>2015-09-27</td>\n",
       "      <td>0.500</td>\n",
       "      <td>16.029</td>\n",
       "      <td>-0.259</td>\n",
       "      <td>0.533</td>\n",
       "      <td>15.642</td>\n",
       "      <td>16.420</td>\n",
       "      <td>16.080</td>\n",
       "      <td>16.269</td>\n",
       "      <td>0.000</td>\n",
       "      <td>0.000</td>\n",
       "      <td>0.000</td>\n",
       "      <td>0.143</td>\n",
       "      <td>-0.259</td>\n",
       "      <td>0.533</td>\n",
       "      <td>0.143</td>\n",
       "      <td>16.172</td>\n",
       "    </tr>\n",
       "  </tbody>\n",
       "</table>\n",
       "<p>39 rows × 17 columns</p>\n",
       "</div>"
      ],
      "text/plain": [
       "           ds     t  trend  seasonal_lower  seasonal_upper  trend_lower  \\\n",
       "0  2015-01-04 0.000 16.160          -0.433           0.473       15.705   \n",
       "1  2015-01-11 0.013 16.153          -0.428           0.461       15.727   \n",
       "2  2015-01-18 0.026 16.146          -0.419           0.437       15.736   \n",
       "3  2015-01-25 0.039 16.122          -0.373           0.438       15.743   \n",
       "4  2015-02-01 0.053 16.098          -0.376           0.411       15.724   \n",
       "..        ...   ...    ...             ...             ...          ...   \n",
       "34 2015-08-30 0.447 16.074          -0.341           0.452       15.668   \n",
       "35 2015-09-06 0.461 16.065          -0.330           0.444       15.679   \n",
       "36 2015-09-13 0.474 16.055          -0.311           0.467       15.680   \n",
       "37 2015-09-20 0.487 16.045          -0.281           0.497       15.656   \n",
       "38 2015-09-27 0.500 16.029          -0.259           0.533       15.642   \n",
       "\n",
       "    trend_upper  yhat_lower  yhat_upper  fed_holiday  fed_holiday_lower  \\\n",
       "0        16.625      16.083      16.295        0.000              0.000   \n",
       "1        16.592      16.082      16.269        0.000              0.000   \n",
       "2        16.583      16.072      16.261       -0.021             -0.045   \n",
       "3        16.538      16.075      16.256        0.000              0.000   \n",
       "4        16.494      16.037      16.222        0.000              0.000   \n",
       "..          ...         ...         ...          ...                ...   \n",
       "34       16.462      16.019      16.211        0.000              0.000   \n",
       "35       16.430      16.003      16.200       -0.021             -0.045   \n",
       "36       16.436      16.036      16.238        0.000              0.000   \n",
       "37       16.443      16.060      16.253        0.000              0.000   \n",
       "38       16.420      16.080      16.269        0.000              0.000   \n",
       "\n",
       "    fed_holiday_upper  yearly  yearly_lower  yearly_upper  seasonal   yhat  \n",
       "0               0.000   0.024        -0.433         0.473     0.024 16.184  \n",
       "1               0.000   0.027        -0.428         0.461     0.027 16.180  \n",
       "2               0.005   0.041        -0.394         0.461     0.020 16.166  \n",
       "3               0.000   0.043        -0.373         0.438     0.043 16.165  \n",
       "4               0.000   0.027        -0.376         0.411     0.027 16.126  \n",
       "..                ...     ...           ...           ...       ...    ...  \n",
       "34              0.000   0.040        -0.341         0.452     0.040 16.115  \n",
       "35              0.005   0.055        -0.318         0.460     0.034 16.098  \n",
       "36              0.000   0.078        -0.311         0.467     0.078 16.132  \n",
       "37              0.000   0.113        -0.281         0.497     0.113 16.158  \n",
       "38              0.000   0.143        -0.259         0.533     0.143 16.172  \n",
       "\n",
       "[39 rows x 17 columns]"
      ]
     },
     "execution_count": 98,
     "metadata": {},
     "output_type": "execute_result"
    }
   ],
   "source": [
    "forecast1"
   ]
  },
  {
   "cell_type": "code",
   "execution_count": 85,
   "metadata": {},
   "outputs": [
    {
     "data": {
      "text/html": [
       "<div>\n",
       "<table border=\"1\" class=\"dataframe\">\n",
       "  <thead>\n",
       "    <tr style=\"text-align: right;\">\n",
       "      <th></th>\n",
       "      <th>ds</th>\n",
       "      <th>y</th>\n",
       "    </tr>\n",
       "  </thead>\n",
       "  <tbody>\n",
       "    <tr>\n",
       "      <th>0</th>\n",
       "      <td>2015-01-04</td>\n",
       "      <td>16.158</td>\n",
       "    </tr>\n",
       "    <tr>\n",
       "      <th>1</th>\n",
       "      <td>2015-01-11</td>\n",
       "      <td>16.186</td>\n",
       "    </tr>\n",
       "    <tr>\n",
       "      <th>2</th>\n",
       "      <td>2015-01-18</td>\n",
       "      <td>16.169</td>\n",
       "    </tr>\n",
       "    <tr>\n",
       "      <th>3</th>\n",
       "      <td>2015-01-25</td>\n",
       "      <td>16.196</td>\n",
       "    </tr>\n",
       "    <tr>\n",
       "      <th>4</th>\n",
       "      <td>2015-02-01</td>\n",
       "      <td>16.167</td>\n",
       "    </tr>\n",
       "    <tr>\n",
       "      <th>...</th>\n",
       "      <td>...</td>\n",
       "      <td>...</td>\n",
       "    </tr>\n",
       "    <tr>\n",
       "      <th>33</th>\n",
       "      <td>2015-08-23</td>\n",
       "      <td>16.077</td>\n",
       "    </tr>\n",
       "    <tr>\n",
       "      <th>34</th>\n",
       "      <td>2015-08-30</td>\n",
       "      <td>16.097</td>\n",
       "    </tr>\n",
       "    <tr>\n",
       "      <th>35</th>\n",
       "      <td>2015-09-06</td>\n",
       "      <td>16.126</td>\n",
       "    </tr>\n",
       "    <tr>\n",
       "      <th>36</th>\n",
       "      <td>2015-09-13</td>\n",
       "      <td>16.100</td>\n",
       "    </tr>\n",
       "    <tr>\n",
       "      <th>37</th>\n",
       "      <td>2015-09-20</td>\n",
       "      <td>16.194</td>\n",
       "    </tr>\n",
       "  </tbody>\n",
       "</table>\n",
       "<p>38 rows × 2 columns</p>\n",
       "</div>"
      ],
      "text/plain": [
       "           ds      y\n",
       "0  2015-01-04 16.158\n",
       "1  2015-01-11 16.186\n",
       "2  2015-01-18 16.169\n",
       "3  2015-01-25 16.196\n",
       "4  2015-02-01 16.167\n",
       "..        ...    ...\n",
       "33 2015-08-23 16.077\n",
       "34 2015-08-30 16.097\n",
       "35 2015-09-06 16.126\n",
       "36 2015-09-13 16.100\n",
       "37 2015-09-20 16.194\n",
       "\n",
       "[38 rows x 2 columns]"
      ]
     },
     "execution_count": 85,
     "metadata": {},
     "output_type": "execute_result"
    }
   ],
   "source": [
    "train"
   ]
  },
  {
   "cell_type": "code",
   "execution_count": 65,
   "metadata": {},
   "outputs": [
    {
     "data": {
      "text/plain": [
       "array([[ 16.17151371]])"
      ]
     },
     "execution_count": 65,
     "metadata": {},
     "output_type": "execute_result"
    }
   ],
   "source": [
    "forecast1.iloc[-1:, -1:].values"
   ]
  },
  {
   "cell_type": "code",
   "execution_count": 68,
   "metadata": {},
   "outputs": [
    {
     "data": {
      "text/plain": [
       "array([ 16.08249055])"
      ]
     },
     "execution_count": 68,
     "metadata": {},
     "output_type": "execute_result"
    }
   ],
   "source": [
    "i=4\n",
    "test.iloc[i-1:i,-1].values"
   ]
  },
  {
   "cell_type": "code",
   "execution_count": 48,
   "metadata": {},
   "outputs": [
    {
     "data": {
      "text/html": [
       "<div>\n",
       "<table border=\"1\" class=\"dataframe\">\n",
       "  <thead>\n",
       "    <tr style=\"text-align: right;\">\n",
       "      <th></th>\n",
       "      <th>ds</th>\n",
       "      <th>y</th>\n",
       "    </tr>\n",
       "  </thead>\n",
       "  <tbody>\n",
       "    <tr>\n",
       "      <th>33</th>\n",
       "      <td>2015-08-23</td>\n",
       "      <td>16.077</td>\n",
       "    </tr>\n",
       "    <tr>\n",
       "      <th>34</th>\n",
       "      <td>2015-08-30</td>\n",
       "      <td>16.097</td>\n",
       "    </tr>\n",
       "    <tr>\n",
       "      <th>35</th>\n",
       "      <td>2015-09-06</td>\n",
       "      <td>16.126</td>\n",
       "    </tr>\n",
       "    <tr>\n",
       "      <th>36</th>\n",
       "      <td>2015-09-13</td>\n",
       "      <td>16.100</td>\n",
       "    </tr>\n",
       "    <tr>\n",
       "      <th>37</th>\n",
       "      <td>2015-09-20</td>\n",
       "      <td>16.194</td>\n",
       "    </tr>\n",
       "  </tbody>\n",
       "</table>\n",
       "</div>"
      ],
      "text/plain": [
       "           ds      y\n",
       "33 2015-08-23 16.077\n",
       "34 2015-08-30 16.097\n",
       "35 2015-09-06 16.126\n",
       "36 2015-09-13 16.100\n",
       "37 2015-09-20 16.194"
      ]
     },
     "execution_count": 48,
     "metadata": {},
     "output_type": "execute_result"
    }
   ],
   "source": [
    "history.tail()"
   ]
  },
  {
   "cell_type": "code",
   "execution_count": 42,
   "metadata": {},
   "outputs": [
    {
     "name": "stdout",
     "output_type": "stream",
     "text": [
      "[ 16.1818204]\n"
     ]
    }
   ],
   "source": [
    "i=1\n",
    "a = test.iloc[i-1:i,-1].values\n",
    "print(a)"
   ]
  },
  {
   "cell_type": "code",
   "execution_count": 161,
   "metadata": {},
   "outputs": [],
   "source": [
    "yhat = forecast1.iloc[-1:, -1:].values"
   ]
  },
  {
   "cell_type": "code",
   "execution_count": 163,
   "metadata": {},
   "outputs": [
    {
     "name": "stdout",
     "output_type": "stream",
     "text": [
      ">Predicted=16.171, Expected= 16\n"
     ]
    }
   ],
   "source": [
    "print('>Predicted=%.3f, Expected=%3.f' % (yhat, yhat))"
   ]
  },
  {
   "cell_type": "code",
   "execution_count": 6,
   "metadata": {},
   "outputs": [
    {
     "ename": "NameError",
     "evalue": "name 'history' is not defined",
     "output_type": "error",
     "traceback": [
      "\u001b[0;31m---------------------------------------------------------------------------\u001b[0m",
      "\u001b[0;31mNameError\u001b[0m                                 Traceback (most recent call last)",
      "\u001b[0;32m<ipython-input-6-3e1a251cdd3d>\u001b[0m in \u001b[0;36m<module>\u001b[0;34m()\u001b[0m\n\u001b[0;32m----> 1\u001b[0;31m \u001b[0mprint\u001b[0m\u001b[1;33m(\u001b[0m\u001b[0mhistory\u001b[0m\u001b[1;33m)\u001b[0m\u001b[1;33m\u001b[0m\u001b[0m\n\u001b[0m",
      "\u001b[0;31mNameError\u001b[0m: name 'history' is not defined"
     ]
    }
   ],
   "source": [
    "print(history)"
   ]
  },
  {
   "cell_type": "code",
   "execution_count": 78,
   "metadata": {},
   "outputs": [
    {
     "data": {
      "text/html": [
       "<div>\n",
       "<table border=\"1\" class=\"dataframe\">\n",
       "  <thead>\n",
       "    <tr style=\"text-align: right;\">\n",
       "      <th></th>\n",
       "      <th>index</th>\n",
       "      <th>ds</th>\n",
       "      <th>y</th>\n",
       "    </tr>\n",
       "  </thead>\n",
       "  <tbody>\n",
       "    <tr>\n",
       "      <th>0</th>\n",
       "      <td>0</td>\n",
       "      <td>2015-01-04</td>\n",
       "      <td>16.158</td>\n",
       "    </tr>\n",
       "    <tr>\n",
       "      <th>1</th>\n",
       "      <td>1</td>\n",
       "      <td>2015-01-11</td>\n",
       "      <td>16.186</td>\n",
       "    </tr>\n",
       "    <tr>\n",
       "      <th>2</th>\n",
       "      <td>2</td>\n",
       "      <td>2015-01-18</td>\n",
       "      <td>16.169</td>\n",
       "    </tr>\n",
       "    <tr>\n",
       "      <th>3</th>\n",
       "      <td>3</td>\n",
       "      <td>2015-01-25</td>\n",
       "      <td>16.196</td>\n",
       "    </tr>\n",
       "    <tr>\n",
       "      <th>4</th>\n",
       "      <td>4</td>\n",
       "      <td>2015-02-01</td>\n",
       "      <td>16.167</td>\n",
       "    </tr>\n",
       "  </tbody>\n",
       "</table>\n",
       "</div>"
      ],
      "text/plain": [
       "   index         ds      y\n",
       "0      0 2015-01-04 16.158\n",
       "1      1 2015-01-11 16.186\n",
       "2      2 2015-01-18 16.169\n",
       "3      3 2015-01-25 16.196\n",
       "4      4 2015-02-01 16.167"
      ]
     },
     "execution_count": 78,
     "metadata": {},
     "output_type": "execute_result"
    }
   ],
   "source": [
    "# Variable creation for the model. Rename  orders_df the columns to 'ds' and 'y' in order to comply with prophet API\n",
    "dataset = dataset.reset_index()\n",
    "dataset = dataset.rename(columns = {'Week':'ds'})\n",
    "dataset.head()"
   ]
  },
  {
   "cell_type": "markdown",
   "metadata": {},
   "source": [
    "#### Model ####"
   ]
  },
  {
   "cell_type": "code",
   "execution_count": 50,
   "metadata": {
    "collapsed": true,
    "jupyter": {
     "outputs_hidden": true
    }
   },
   "outputs": [],
   "source": [
    "# Use fbprophet to forecast\n",
    "import pystan\n",
    "from fbprophet import Prophet"
   ]
  },
  {
   "cell_type": "code",
   "execution_count": 60,
   "metadata": {},
   "outputs": [
    {
     "data": {
      "text/html": [
       "<div>\n",
       "<table border=\"1\" class=\"dataframe\">\n",
       "  <thead>\n",
       "    <tr style=\"text-align: right;\">\n",
       "      <th></th>\n",
       "      <th>year</th>\n",
       "      <th>wk</th>\n",
       "      <th>name</th>\n",
       "      <th>date</th>\n",
       "      <th>sunday</th>\n",
       "    </tr>\n",
       "  </thead>\n",
       "  <tbody>\n",
       "    <tr>\n",
       "      <th>0</th>\n",
       "      <td>2015</td>\n",
       "      <td>1</td>\n",
       "      <td>NYE</td>\n",
       "      <td>2015-01-01</td>\n",
       "      <td>2014-12-28</td>\n",
       "    </tr>\n",
       "    <tr>\n",
       "      <th>1</th>\n",
       "      <td>2015</td>\n",
       "      <td>4</td>\n",
       "      <td>MLK</td>\n",
       "      <td>2015-01-19</td>\n",
       "      <td>2015-01-18</td>\n",
       "    </tr>\n",
       "    <tr>\n",
       "      <th>2</th>\n",
       "      <td>2015</td>\n",
       "      <td>8</td>\n",
       "      <td>Washington</td>\n",
       "      <td>2015-02-16</td>\n",
       "      <td>2015-02-15</td>\n",
       "    </tr>\n",
       "    <tr>\n",
       "      <th>3</th>\n",
       "      <td>2015</td>\n",
       "      <td>14</td>\n",
       "      <td>Good Friday</td>\n",
       "      <td>2015-04-03</td>\n",
       "      <td>2015-03-29</td>\n",
       "    </tr>\n",
       "    <tr>\n",
       "      <th>4</th>\n",
       "      <td>2015</td>\n",
       "      <td>22</td>\n",
       "      <td>Memorial</td>\n",
       "      <td>2015-05-25</td>\n",
       "      <td>2015-05-24</td>\n",
       "    </tr>\n",
       "  </tbody>\n",
       "</table>\n",
       "</div>"
      ],
      "text/plain": [
       "   year  wk         name       date     sunday\n",
       "0  2015   1          NYE 2015-01-01 2014-12-28\n",
       "1  2015   4          MLK 2015-01-19 2015-01-18\n",
       "2  2015   8   Washington 2015-02-16 2015-02-15\n",
       "3  2015  14  Good Friday 2015-04-03 2015-03-29\n",
       "4  2015  22     Memorial 2015-05-25 2015-05-24"
      ]
     },
     "execution_count": 60,
     "metadata": {},
     "output_type": "execute_result"
    }
   ],
   "source": [
    "# Let's try to model holidays. Read in the excel file with the holidays listed\n",
    "hhelper = pd.read_excel('holidays_helper.xlsx', sheetname=0, index_col=None)\n",
    "hhelper.head()"
   ]
  },
  {
   "cell_type": "code",
   "execution_count": 61,
   "metadata": {},
   "outputs": [
    {
     "name": "stdout",
     "output_type": "stream",
     "text": [
      "<class 'pandas.core.frame.DataFrame'>\n",
      "RangeIndex: 42 entries, 0 to 41\n",
      "Data columns (total 5 columns):\n",
      "year      42 non-null int64\n",
      "wk        42 non-null int64\n",
      "name      42 non-null object\n",
      "date      42 non-null datetime64[ns]\n",
      "sunday    42 non-null datetime64[ns]\n",
      "dtypes: datetime64[ns](2), int64(2), object(1)\n",
      "memory usage: 1.7+ KB\n"
     ]
    }
   ],
   "source": [
    "# let's confirm that the 'sunday' column which represents the sunday of that week is in datetime\n",
    "hhelper.info()"
   ]
  },
  {
   "cell_type": "code",
   "execution_count": 62,
   "metadata": {},
   "outputs": [
    {
     "data": {
      "text/html": [
       "<div>\n",
       "<table border=\"1\" class=\"dataframe\">\n",
       "  <thead>\n",
       "    <tr style=\"text-align: right;\">\n",
       "      <th></th>\n",
       "      <th>ds</th>\n",
       "      <th>holiday</th>\n",
       "      <th>lower_window</th>\n",
       "      <th>upper_window</th>\n",
       "    </tr>\n",
       "  </thead>\n",
       "  <tbody>\n",
       "    <tr>\n",
       "      <th>0</th>\n",
       "      <td>2014-12-28</td>\n",
       "      <td>fed_holiday</td>\n",
       "      <td>0</td>\n",
       "      <td>1</td>\n",
       "    </tr>\n",
       "    <tr>\n",
       "      <th>1</th>\n",
       "      <td>2015-01-18</td>\n",
       "      <td>fed_holiday</td>\n",
       "      <td>0</td>\n",
       "      <td>1</td>\n",
       "    </tr>\n",
       "    <tr>\n",
       "      <th>2</th>\n",
       "      <td>2015-02-15</td>\n",
       "      <td>fed_holiday</td>\n",
       "      <td>0</td>\n",
       "      <td>1</td>\n",
       "    </tr>\n",
       "    <tr>\n",
       "      <th>3</th>\n",
       "      <td>2015-03-29</td>\n",
       "      <td>fed_holiday</td>\n",
       "      <td>0</td>\n",
       "      <td>1</td>\n",
       "    </tr>\n",
       "    <tr>\n",
       "      <th>4</th>\n",
       "      <td>2015-05-24</td>\n",
       "      <td>fed_holiday</td>\n",
       "      <td>0</td>\n",
       "      <td>1</td>\n",
       "    </tr>\n",
       "  </tbody>\n",
       "</table>\n",
       "</div>"
      ],
      "text/plain": [
       "          ds      holiday  lower_window  upper_window\n",
       "0 2014-12-28  fed_holiday             0             1\n",
       "1 2015-01-18  fed_holiday             0             1\n",
       "2 2015-02-15  fed_holiday             0             1\n",
       "3 2015-03-29  fed_holiday             0             1\n",
       "4 2015-05-24  fed_holiday             0             1"
      ]
     },
     "execution_count": 62,
     "metadata": {},
     "output_type": "execute_result"
    }
   ],
   "source": [
    "# Account for holidays in the model. To capture the holidays, define a holiday dataframe with a datestamp and the description of the holiday:\n",
    "holiday_df = pd.DataFrame({\n",
    "  'holiday': 'fed_holiday',\n",
    "  'ds': hhelper['sunday'],\n",
    "  'lower_window': 0,\n",
    "  'upper_window': 1\n",
    "})\n",
    "holiday_df.head()"
   ]
  },
  {
   "cell_type": "code",
   "execution_count": 64,
   "metadata": {},
   "outputs": [
    {
     "data": {
      "image/png": "[encoded data removed]",
      "text/plain": [
       "<matplotlib.figure.Figure at 0x1622266dd8>"
      ]
     },
     "metadata": {},
     "output_type": "display_data"
    }
   ],
   "source": [
    "\n",
    "m2 = Prophet(growth='linear',\n",
    "             changepoint_prior_scale=0.09,\n",
    "             #n_changepoints=7,\n",
    "             #changepoints= #List,\n",
    "             #yearly_seasonality=boolean\n",
    "             weekly_seasonality=False,\n",
    "             mcmc_samples=500,\n",
    "             holidays=holiday_df, # To use the holidays in the model, pass it to the model via the 'holidays' keyword\n",
    "             holidays_prior_scale=4,\n",
    "             seasonality_prior_scale=5,\n",
    "             uncertainty_samples=500,\n",
    "             interval_width=0.95,\n",
    "            ).fit(dataset)\n",
    "future2 = m2.make_future_dataframe(periods=60, freq='W-SUN')\n",
    "forecast2 = m2.predict(future2)\n",
    "m2.plot(forecast2); # New forecast based on model that includes holidays"
   ]
  },
  {
   "cell_type": "code",
   "execution_count": 65,
   "metadata": {},
   "outputs": [
    {
     "data": {
      "image/png": "[encoded data removed]",
      "text/plain": [
       "<matplotlib.figure.Figure at 0x162206c5f8>"
      ]
     },
     "metadata": {},
     "output_type": "display_data"
    }
   ],
   "source": [
    "# Various components of m2 (w/ holidays added)\n",
    "m2.plot_components(forecast2);"
   ]
  },
  {
   "cell_type": "code",
   "execution_count": 70,
   "metadata": {},
   "outputs": [
    {
     "data": {
      "image/png": "[encoded data removed]",
      "text/plain": [
       "<matplotlib.figure.Figure at 0x1621ccfac8>"
      ]
     },
     "metadata": {},
     "output_type": "display_data"
    }
   ],
   "source": [
    "# Review the predictions of the future\n",
    "import datetime\n",
    "fig1 = forecast2[forecast2.ds > datetime.date(2016, 12, 31)]\n",
    "fig1.plot(x='ds', y='yhat');"
   ]
  },
  {
   "cell_type": "code",
   "execution_count": 76,
   "metadata": {
    "collapsed": true,
    "jupyter": {
     "outputs_hidden": true
    }
   },
   "outputs": [],
   "source": [
    "# Test the accuracy of the results from the 2 forecasted time-series\n",
    "# Adj. R Square & Cross-validation is the best way to evaluate models used for prediction. \n",
    "# Here you divide your data set into two group (train and validate). \n",
    "# A simple mean squared difference between the observed and predicted values give you a measure for the prediction accuracy."
   ]
  },
  {
   "cell_type": "markdown",
   "metadata": {},
   "source": [
    "![Adj. R Square](https://www.analyticsvidhya.com/wp-content/uploads/2015/10/Adjusted-R-Squre.png)"
   ]
  },
  {
   "cell_type": "code",
   "execution_count": 71,
   "metadata": {},
   "outputs": [
    {
     "data": {
      "text/html": [
       "<div>\n",
       "<table border=\"1\" class=\"dataframe\">\n",
       "  <thead>\n",
       "    <tr style=\"text-align: right;\">\n",
       "      <th></th>\n",
       "      <th>ds</th>\n",
       "      <th>t</th>\n",
       "      <th>trend</th>\n",
       "      <th>seasonal_lower</th>\n",
       "      <th>seasonal_upper</th>\n",
       "      <th>trend_lower</th>\n",
       "      <th>trend_upper</th>\n",
       "      <th>yhat_lower</th>\n",
       "      <th>yhat_upper</th>\n",
       "      <th>fed_holiday</th>\n",
       "      <th>fed_holiday_lower</th>\n",
       "      <th>fed_holiday_upper</th>\n",
       "      <th>yearly</th>\n",
       "      <th>yearly_lower</th>\n",
       "      <th>yearly_upper</th>\n",
       "      <th>seasonal</th>\n",
       "      <th>yhat</th>\n",
       "    </tr>\n",
       "  </thead>\n",
       "  <tbody>\n",
       "    <tr>\n",
       "      <th>0</th>\n",
       "      <td>2015-01-04</td>\n",
       "      <td>0.000</td>\n",
       "      <td>16.149</td>\n",
       "      <td>-0.411</td>\n",
       "      <td>0.458</td>\n",
       "      <td>15.722</td>\n",
       "      <td>16.609</td>\n",
       "      <td>16.076</td>\n",
       "      <td>16.296</td>\n",
       "      <td>0.000</td>\n",
       "      <td>0.000</td>\n",
       "      <td>0.000</td>\n",
       "      <td>0.036</td>\n",
       "      <td>-0.411</td>\n",
       "      <td>0.458</td>\n",
       "      <td>0.036</td>\n",
       "      <td>16.184</td>\n",
       "    </tr>\n",
       "    <tr>\n",
       "      <th>1</th>\n",
       "      <td>2015-01-11</td>\n",
       "      <td>0.013</td>\n",
       "      <td>16.140</td>\n",
       "      <td>-0.382</td>\n",
       "      <td>0.464</td>\n",
       "      <td>15.732</td>\n",
       "      <td>16.558</td>\n",
       "      <td>16.091</td>\n",
       "      <td>16.275</td>\n",
       "      <td>0.000</td>\n",
       "      <td>0.000</td>\n",
       "      <td>0.000</td>\n",
       "      <td>0.040</td>\n",
       "      <td>-0.382</td>\n",
       "      <td>0.464</td>\n",
       "      <td>0.040</td>\n",
       "      <td>16.180</td>\n",
       "    </tr>\n",
       "    <tr>\n",
       "      <th>2</th>\n",
       "      <td>2015-01-18</td>\n",
       "      <td>0.026</td>\n",
       "      <td>16.131</td>\n",
       "      <td>-0.364</td>\n",
       "      <td>0.445</td>\n",
       "      <td>15.718</td>\n",
       "      <td>16.513</td>\n",
       "      <td>16.064</td>\n",
       "      <td>16.259</td>\n",
       "      <td>-0.021</td>\n",
       "      <td>-0.047</td>\n",
       "      <td>0.005</td>\n",
       "      <td>0.054</td>\n",
       "      <td>-0.333</td>\n",
       "      <td>0.472</td>\n",
       "      <td>0.033</td>\n",
       "      <td>16.165</td>\n",
       "    </tr>\n",
       "    <tr>\n",
       "      <th>3</th>\n",
       "      <td>2015-01-25</td>\n",
       "      <td>0.039</td>\n",
       "      <td>16.108</td>\n",
       "      <td>-0.315</td>\n",
       "      <td>0.452</td>\n",
       "      <td>15.718</td>\n",
       "      <td>16.471</td>\n",
       "      <td>16.079</td>\n",
       "      <td>16.256</td>\n",
       "      <td>0.000</td>\n",
       "      <td>0.000</td>\n",
       "      <td>0.000</td>\n",
       "      <td>0.057</td>\n",
       "      <td>-0.315</td>\n",
       "      <td>0.452</td>\n",
       "      <td>0.057</td>\n",
       "      <td>16.165</td>\n",
       "    </tr>\n",
       "    <tr>\n",
       "      <th>4</th>\n",
       "      <td>2015-02-01</td>\n",
       "      <td>0.053</td>\n",
       "      <td>16.084</td>\n",
       "      <td>-0.320</td>\n",
       "      <td>0.418</td>\n",
       "      <td>15.712</td>\n",
       "      <td>16.446</td>\n",
       "      <td>16.030</td>\n",
       "      <td>16.220</td>\n",
       "      <td>0.000</td>\n",
       "      <td>0.000</td>\n",
       "      <td>0.000</td>\n",
       "      <td>0.042</td>\n",
       "      <td>-0.320</td>\n",
       "      <td>0.418</td>\n",
       "      <td>0.042</td>\n",
       "      <td>16.125</td>\n",
       "    </tr>\n",
       "    <tr>\n",
       "      <th>...</th>\n",
       "      <td>...</td>\n",
       "      <td>...</td>\n",
       "      <td>...</td>\n",
       "      <td>...</td>\n",
       "      <td>...</td>\n",
       "      <td>...</td>\n",
       "      <td>...</td>\n",
       "      <td>...</td>\n",
       "      <td>...</td>\n",
       "      <td>...</td>\n",
       "      <td>...</td>\n",
       "      <td>...</td>\n",
       "      <td>...</td>\n",
       "      <td>...</td>\n",
       "      <td>...</td>\n",
       "      <td>...</td>\n",
       "      <td>...</td>\n",
       "    </tr>\n",
       "    <tr>\n",
       "      <th>132</th>\n",
       "      <td>2017-07-16</td>\n",
       "      <td>1.737</td>\n",
       "      <td>16.529</td>\n",
       "      <td>-0.539</td>\n",
       "      <td>0.278</td>\n",
       "      <td>8.361</td>\n",
       "      <td>24.368</td>\n",
       "      <td>8.250</td>\n",
       "      <td>24.202</td>\n",
       "      <td>0.000</td>\n",
       "      <td>0.000</td>\n",
       "      <td>0.000</td>\n",
       "      <td>-0.125</td>\n",
       "      <td>-0.539</td>\n",
       "      <td>0.278</td>\n",
       "      <td>-0.125</td>\n",
       "      <td>16.404</td>\n",
       "    </tr>\n",
       "    <tr>\n",
       "      <th>133</th>\n",
       "      <td>2017-07-23</td>\n",
       "      <td>1.750</td>\n",
       "      <td>16.534</td>\n",
       "      <td>-0.508</td>\n",
       "      <td>0.306</td>\n",
       "      <td>8.080</td>\n",
       "      <td>24.645</td>\n",
       "      <td>8.077</td>\n",
       "      <td>24.530</td>\n",
       "      <td>0.000</td>\n",
       "      <td>0.000</td>\n",
       "      <td>0.000</td>\n",
       "      <td>-0.094</td>\n",
       "      <td>-0.508</td>\n",
       "      <td>0.306</td>\n",
       "      <td>-0.094</td>\n",
       "      <td>16.440</td>\n",
       "    </tr>\n",
       "    <tr>\n",
       "      <th>134</th>\n",
       "      <td>2017-07-30</td>\n",
       "      <td>1.763</td>\n",
       "      <td>16.540</td>\n",
       "      <td>-0.467</td>\n",
       "      <td>0.348</td>\n",
       "      <td>7.919</td>\n",
       "      <td>24.864</td>\n",
       "      <td>7.815</td>\n",
       "      <td>24.836</td>\n",
       "      <td>0.000</td>\n",
       "      <td>0.000</td>\n",
       "      <td>0.000</td>\n",
       "      <td>-0.065</td>\n",
       "      <td>-0.467</td>\n",
       "      <td>0.348</td>\n",
       "      <td>-0.065</td>\n",
       "      <td>16.474</td>\n",
       "    </tr>\n",
       "    <tr>\n",
       "      <th>135</th>\n",
       "      <td>2017-08-06</td>\n",
       "      <td>1.776</td>\n",
       "      <td>16.545</td>\n",
       "      <td>-0.445</td>\n",
       "      <td>0.357</td>\n",
       "      <td>7.712</td>\n",
       "      <td>25.143</td>\n",
       "      <td>7.697</td>\n",
       "      <td>24.984</td>\n",
       "      <td>0.000</td>\n",
       "      <td>0.000</td>\n",
       "      <td>0.000</td>\n",
       "      <td>-0.040</td>\n",
       "      <td>-0.445</td>\n",
       "      <td>0.357</td>\n",
       "      <td>-0.040</td>\n",
       "      <td>16.506</td>\n",
       "    </tr>\n",
       "    <tr>\n",
       "      <th>136</th>\n",
       "      <td>2017-08-13</td>\n",
       "      <td>1.789</td>\n",
       "      <td>16.551</td>\n",
       "      <td>-0.403</td>\n",
       "      <td>0.388</td>\n",
       "      <td>7.498</td>\n",
       "      <td>25.414</td>\n",
       "      <td>7.546</td>\n",
       "      <td>25.242</td>\n",
       "      <td>0.000</td>\n",
       "      <td>0.000</td>\n",
       "      <td>0.000</td>\n",
       "      <td>-0.012</td>\n",
       "      <td>-0.403</td>\n",
       "      <td>0.388</td>\n",
       "      <td>-0.012</td>\n",
       "      <td>16.539</td>\n",
       "    </tr>\n",
       "  </tbody>\n",
       "</table>\n",
       "<p>137 rows × 17 columns</p>\n",
       "</div>"
      ],
      "text/plain": [
       "            ds     t  trend  seasonal_lower  seasonal_upper  trend_lower  \\\n",
       "0   2015-01-04 0.000 16.149          -0.411           0.458       15.722   \n",
       "1   2015-01-11 0.013 16.140          -0.382           0.464       15.732   \n",
       "2   2015-01-18 0.026 16.131          -0.364           0.445       15.718   \n",
       "3   2015-01-25 0.039 16.108          -0.315           0.452       15.718   \n",
       "4   2015-02-01 0.053 16.084          -0.320           0.418       15.712   \n",
       "..         ...   ...    ...             ...             ...          ...   \n",
       "132 2017-07-16 1.737 16.529          -0.539           0.278        8.361   \n",
       "133 2017-07-23 1.750 16.534          -0.508           0.306        8.080   \n",
       "134 2017-07-30 1.763 16.540          -0.467           0.348        7.919   \n",
       "135 2017-08-06 1.776 16.545          -0.445           0.357        7.712   \n",
       "136 2017-08-13 1.789 16.551          -0.403           0.388        7.498   \n",
       "\n",
       "     trend_upper  yhat_lower  yhat_upper  fed_holiday  fed_holiday_lower  \\\n",
       "0         16.609      16.076      16.296        0.000              0.000   \n",
       "1         16.558      16.091      16.275        0.000              0.000   \n",
       "2         16.513      16.064      16.259       -0.021             -0.047   \n",
       "3         16.471      16.079      16.256        0.000              0.000   \n",
       "4         16.446      16.030      16.220        0.000              0.000   \n",
       "..           ...         ...         ...          ...                ...   \n",
       "132       24.368       8.250      24.202        0.000              0.000   \n",
       "133       24.645       8.077      24.530        0.000              0.000   \n",
       "134       24.864       7.815      24.836        0.000              0.000   \n",
       "135       25.143       7.697      24.984        0.000              0.000   \n",
       "136       25.414       7.546      25.242        0.000              0.000   \n",
       "\n",
       "     fed_holiday_upper  yearly  yearly_lower  yearly_upper  seasonal   yhat  \n",
       "0                0.000   0.036        -0.411         0.458     0.036 16.184  \n",
       "1                0.000   0.040        -0.382         0.464     0.040 16.180  \n",
       "2                0.005   0.054        -0.333         0.472     0.033 16.165  \n",
       "3                0.000   0.057        -0.315         0.452     0.057 16.165  \n",
       "4                0.000   0.042        -0.320         0.418     0.042 16.125  \n",
       "..                 ...     ...           ...           ...       ...    ...  \n",
       "132              0.000  -0.125        -0.539         0.278    -0.125 16.404  \n",
       "133              0.000  -0.094        -0.508         0.306    -0.094 16.440  \n",
       "134              0.000  -0.065        -0.467         0.348    -0.065 16.474  \n",
       "135              0.000  -0.040        -0.445         0.357    -0.040 16.506  \n",
       "136              0.000  -0.012        -0.403         0.388    -0.012 16.539  \n",
       "\n",
       "[137 rows x 17 columns]"
      ]
     },
     "execution_count": 71,
     "metadata": {},
     "output_type": "execute_result"
    }
   ],
   "source": [
    "forecast2"
   ]
  },
  {
   "cell_type": "code",
   "execution_count": null,
   "metadata": {
    "collapsed": true,
    "jupyter": {
     "outputs_hidden": true
    }
   },
   "outputs": [],
   "source": []
  },
  {
   "cell_type": "markdown",
   "metadata": {},
   "source": [
    "#### Interpret ####"
   ]
  }
 ],
 "metadata": {
  "kernelspec": {
   "display_name": "Python 3",
   "language": "python",
   "name": "python3"
  },
  "language_info": {
   "codemirror_mode": {
    "name": "ipython",
    "version": 3
   },
   "file_extension": ".py",
   "mimetype": "text/x-python",
   "name": "python",
   "nbconvert_exporter": "python",
   "pygments_lexer": "ipython3",
   "version": "3.8.2"
  }
 },
 "nbformat": 4,
 "nbformat_minor": 4
}
